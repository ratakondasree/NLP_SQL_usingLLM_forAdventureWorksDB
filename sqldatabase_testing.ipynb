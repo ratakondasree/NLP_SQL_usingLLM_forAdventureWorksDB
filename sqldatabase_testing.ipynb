{
 "cells": [
  {
   "cell_type": "code",
   "execution_count": 1,
   "id": "77db90a1",
   "metadata": {},
   "outputs": [],
   "source": [
    "import os"
   ]
  },
  {
   "cell_type": "code",
   "execution_count": 2,
   "id": "b53accee",
   "metadata": {},
   "outputs": [],
   "source": [
    "from dotenv import load_dotenv"
   ]
  },
  {
   "cell_type": "code",
   "execution_count": 3,
   "id": "7f3ddfe3",
   "metadata": {},
   "outputs": [
    {
     "data": {
      "text/plain": [
       "True"
      ]
     },
     "execution_count": 3,
     "metadata": {},
     "output_type": "execute_result"
    }
   ],
   "source": [
    "load_dotenv()"
   ]
  },
  {
   "cell_type": "code",
   "execution_count": 4,
   "id": "9a0aded6",
   "metadata": {},
   "outputs": [],
   "source": [
    "os.environ[\"OPENAI_API_KEY\"]=os.getenv(\"OPENAI_API_KEY\")"
   ]
  },
  {
   "cell_type": "code",
   "execution_count": 5,
   "id": "cd7f27ef",
   "metadata": {},
   "outputs": [
    {
     "name": "stdout",
     "output_type": "stream",
     "text": [
      "✅ SQL Server Login Successful!\n"
     ]
    }
   ],
   "source": [
    "import pyodbc\n",
    "\n",
    "try:\n",
    "    conn = pyodbc.connect(\"DRIVER={ODBC Driver 17 for SQL Server};\"\n",
    "                          \"SERVER=LAPTOP-RES6G37K;\"\n",
    "                          \"DATABASE=adventureworks2019;\"\n",
    "                          \"Trusted_connection=Yes;\")\n",
    "    print(\"✅ SQL Server Login Successful!\")\n",
    "    conn.close()\n",
    "except Exception as e:\n",
    "    print(\"❌ SQL Server Login Failed:\", e)"
   ]
  },
  {
   "cell_type": "code",
   "execution_count": 6,
   "id": "5aa42757",
   "metadata": {},
   "outputs": [],
   "source": [
    "from sqlalchemy import create_engine"
   ]
  },
  {
   "cell_type": "code",
   "execution_count": 7,
   "id": "dc39ccd0",
   "metadata": {},
   "outputs": [],
   "source": [
    "from sqlalchemy.engine import URL\n",
    "server = \"LAPTOP-RES6G37K\"\n",
    "database = \"adventureworks2019\"\n",
    "\n",
    "\n",
    "connection_url = URL.create(\n",
    "    \"mssql+pyodbc\",\n",
    "    host=\"tcp:\" + server,\n",
    "    port=1433,\n",
    "    database=database,\n",
    "    \n",
    "    # driver is typically required in the query\n",
    "    query={\n",
    "        \"driver\": \"ODBC Driver 17 for SQL Server\",\n",
    "        \"Trusted_Connection\": \"yes\"\n",
    "    },\n",
    ")\n",
    "\n",
    "engine = create_engine(connection_url)\n"
   ]
  },
  {
   "cell_type": "code",
   "execution_count": 8,
   "id": "df4ecf3a",
   "metadata": {},
   "outputs": [
    {
     "name": "stdout",
     "output_type": "stream",
     "text": [
      "✅ SQLAlchemy connected successfully!\n"
     ]
    }
   ],
   "source": [
    "try:\n",
    "    with engine.connect() as conn:\n",
    "        print(\"✅ SQLAlchemy connected successfully!\")\n",
    "except Exception as e:\n",
    "    print(\"❌ SQLAlchemy connection failed:\", e)"
   ]
  },
  {
   "cell_type": "code",
   "execution_count": 9,
   "id": "f0ddb243",
   "metadata": {},
   "outputs": [],
   "source": [
    "from langchain.utilities import SQLDatabase"
   ]
  },
  {
   "cell_type": "code",
   "execution_count": 10,
   "id": "f0a8a1ae",
   "metadata": {},
   "outputs": [],
   "source": [
    "from langchain_community.utilities.sql_database import SQLDatabase"
   ]
  },
  {
   "cell_type": "code",
   "execution_count": 62,
   "id": "3e1660eb",
   "metadata": {},
   "outputs": [
    {
     "name": "stderr",
     "output_type": "stream",
     "text": [
      "C:\\Users\\Sreehari\\AppData\\Local\\Temp\\ipykernel_15128\\3025684154.py:6: SAWarning: Did not recognize type 'geography' of column 'SpatialLocation'\n",
      "  meta.reflect(bind=engine, schema=schema_name)\n",
      "C:\\Users\\Sreehari\\AppData\\Local\\Temp\\ipykernel_15128\\3025684154.py:6: SAWarning: Did not recognize type 'hierarchyid' of column 'OrganizationNode'\n",
      "  meta.reflect(bind=engine, schema=schema_name)\n",
      "C:\\Users\\Sreehari\\AppData\\Local\\Temp\\ipykernel_15128\\3025684154.py:6: SAWarning: Did not recognize type 'hierarchyid' of column 'DocumentNode'\n",
      "  meta.reflect(bind=engine, schema=schema_name)\n"
     ]
    }
   ],
   "source": [
    "from sqlalchemy import create_engine, MetaData\n",
    "\n",
    "meta = MetaData()\n",
    "# Reflect *all* schemas and tables:\n",
    "for schema_name in [\"Person\",\"dbo\",\"Sales\",\"HumanResources\",\"Production\",\"Purchasing\"]:\n",
    "    meta.reflect(bind=engine, schema=schema_name)\n",
    "\n"
   ]
  },
  {
   "cell_type": "code",
   "execution_count": 29,
   "id": "aa3ba84f",
   "metadata": {},
   "outputs": [],
   "source": [
    "dbase = SQLDatabase(engine=engine, schema=\"Sales\", metadata=meta)"
   ]
  },
  {
   "cell_type": "code",
   "execution_count": 30,
   "id": "289bb8b9",
   "metadata": {},
   "outputs": [
    {
     "data": {
      "text/plain": [
       "['CountryRegionCurrency',\n",
       " 'CreditCard',\n",
       " 'Currency',\n",
       " 'CurrencyRate',\n",
       " 'Customer',\n",
       " 'PersonCreditCard',\n",
       " 'SalesOrderDetail',\n",
       " 'SalesOrderHeader',\n",
       " 'SalesOrderHeaderSalesReason',\n",
       " 'SalesPerson',\n",
       " 'SalesPersonQuotaHistory',\n",
       " 'SalesReason',\n",
       " 'SalesTaxRate',\n",
       " 'SalesTerritory',\n",
       " 'SalesTerritoryHistory',\n",
       " 'ShoppingCartItem',\n",
       " 'SpecialOffer',\n",
       " 'SpecialOfferProduct',\n",
       " 'Store']"
      ]
     },
     "execution_count": 30,
     "metadata": {},
     "output_type": "execute_result"
    }
   ],
   "source": [
    "dbase.get_table_names()"
   ]
  },
  {
   "cell_type": "code",
   "execution_count": 31,
   "id": "0e624295",
   "metadata": {},
   "outputs": [
    {
     "data": {
      "text/plain": [
       "21970"
      ]
     },
     "execution_count": 31,
     "metadata": {},
     "output_type": "execute_result"
    }
   ],
   "source": [
    "len(dbase.get_table_info())"
   ]
  },
  {
   "cell_type": "code",
   "execution_count": 32,
   "id": "ea066991",
   "metadata": {},
   "outputs": [
    {
     "data": {
      "text/plain": [
       "'\\nCREATE TABLE [Sales].[CountryRegionCurrency] (\\n\\t[CountryRegionCode] NVARCHAR(3) COLLATE SQL_Latin1_General_CP1_CI_AS NOT NULL, \\n\\t[CurrencyCode] NCHAR(3) COLLATE SQL_Latin1_General_CP1_CI_AS NOT NULL, \\n\\t[ModifiedDate] DATETIME NOT NULL DEFAULT (getdate()), \\n\\tCONSTRAINT [PK_CountryRegionCurrency_CountryRegionCode_CurrencyCode] PRIMARY KEY ([CountryRegionCode], [CurrencyCode]), \\n\\tCONSTRAINT [FK_CountryRegionCurrency_CountryRegion_CountryRegionCode] FOREIGN KEY([CountryRegionCode]) REFERENCES [Person].[CountryRegion] ([CountryRegionCode]), \\n\\tCONSTRAINT [FK_CountryRegionCurrency_Currency_CurrencyCode] FOREIGN KEY([CurrencyCode]) REFERENCES [Sales].[Currency] ([CurrencyCode])\\n)\\n\\n/*\\n3 rows from CountryRegionCurrency table:\\nCountryRegionCode\\tCurrencyCode\\tModifiedDate\\nAE\\tAED\\t2014-02-08 10:17:21.510000\\nAR\\tARS\\t2014-02-08 10:17:21.510000\\nAT\\tATS\\t2014-02-08 10:17:21.510000\\n*/\\n\\n\\nCREATE TABLE [Sales].[CreditCard] (\\n\\t[CreditCardID] INTEGER NOT NULL IDENTITY(1,1), \\n\\t[CardType] NVARCHAR(50) COLLATE SQL_Latin1_General_CP1_CI_AS NOT NULL, \\n\\t[CardNumber] NVARCHAR(25) COLLATE SQL_Latin1_General_CP1_CI_AS NOT NULL, \\n\\t[ExpMonth] TINYINT NOT NULL, \\n\\t[ExpYear] SMALLINT NOT NULL, \\n\\t[ModifiedDate] DATETIME NOT NULL DEFAULT (getdate()), \\n\\tCONSTRAINT [PK_CreditCard_CreditCardID] PRIMARY KEY ([CreditCardID])\\n)\\n\\n/*\\n3 rows from CreditCard table:\\nCreditCardID\\tCardType\\tCardNumber\\tExpMonth\\tExpYear\\tModifiedDate\\n1\\tSuperiorCard\\t33332664695310\\t11\\t2006\\t2013-07-29 00:00:00\\n2\\tDistinguish\\t55552127249722\\t8\\t2005\\t2013-12-05 00:00:00\\n3\\tColonialVoice\\t77778344838353\\t7\\t2005\\t2014-01-14 00:00:00\\n*/\\n\\n\\nCREATE TABLE [Sales].[CurrencyRate] (\\n\\t[CurrencyRateID] INTEGER NOT NULL IDENTITY(1,1), \\n\\t[CurrencyRateDate] DATETIME NOT NULL, \\n\\t[FromCurrencyCode] NCHAR(3) COLLATE SQL_Latin1_General_CP1_CI_AS NOT NULL, \\n\\t[ToCurrencyCode] NCHAR(3) COLLATE SQL_Latin1_General_CP1_CI_AS NOT NULL, \\n\\t[AverageRate] MONEY NOT NULL, \\n\\t[EndOfDayRate] MONEY NOT NULL, \\n\\t[ModifiedDate] DATETIME NOT NULL DEFAULT (getdate()), \\n\\tCONSTRAINT [PK_CurrencyRate_CurrencyRateID] PRIMARY KEY ([CurrencyRateID]), \\n\\tCONSTRAINT [FK_CurrencyRate_Currency_FromCurrencyCode] FOREIGN KEY([FromCurrencyCode]) REFERENCES [Sales].[Currency] ([CurrencyCode]), \\n\\tCONSTRAINT [FK_CurrencyRate_Currency_ToCurrencyCode] FOREIGN KEY([ToCurrencyCode]) REFERENCES [Sales].[Currency] ([CurrencyCode])\\n)\\n\\n/*\\n3 rows from CurrencyRate table:\\nCurrencyRateID\\tCurrencyRateDate\\tFromCurrencyCode\\tToCurrencyCode\\tAverageRate\\tEndOfDayRate\\tModifiedDate\\n1\\t2011-05-31 00:00:00\\tUSD\\tARS\\t1.0000\\t1.0002\\t2011-05-31 00:00:00\\n2\\t2011-05-31 00:00:00\\tUSD\\tAUD\\t1.5491\\t1.5500\\t2011-05-31 00:00:00\\n3\\t2011-05-31 00:00:00\\tUSD\\tBRL\\t1.9379\\t1.9419\\t2011-05-31 00:00:00\\n*/\\n\\n\\nCREATE TABLE [Sales].[Currency] (\\n\\t[CurrencyCode] NCHAR(3) COLLATE SQL_Latin1_General_CP1_CI_AS NOT NULL, \\n\\t[Name] NVARCHAR(50) COLLATE SQL_Latin1_General_CP1_CI_AS NOT NULL, \\n\\t[ModifiedDate] DATETIME NOT NULL DEFAULT (getdate()), \\n\\tCONSTRAINT [PK_Currency_CurrencyCode] PRIMARY KEY ([CurrencyCode])\\n)\\n\\n/*\\n3 rows from Currency table:\\nCurrencyCode\\tName\\tModifiedDate\\nAED\\tEmirati Dirham\\t2008-04-30 00:00:00\\nAFA\\tAfghani\\t2008-04-30 00:00:00\\nALL\\tLek\\t2008-04-30 00:00:00\\n*/\\n\\n\\nCREATE TABLE [Sales].[Customer] (\\n\\t[CustomerID] INTEGER NOT NULL IDENTITY(1,1), \\n\\t[PersonID] INTEGER NULL, \\n\\t[StoreID] INTEGER NULL, \\n\\t[TerritoryID] INTEGER NULL, \\n\\t[AccountNumber] AS ((isnull(\\'AW\\'+[dbo].[ufnLeadingZeros]([CustomerID]),\\'\\'))) NOT NULL, \\n\\trowguid UNIQUEIDENTIFIER NOT NULL DEFAULT (newid()), \\n\\t[ModifiedDate] DATETIME NOT NULL DEFAULT (getdate()), \\n\\tCONSTRAINT [PK_Customer_CustomerID] PRIMARY KEY ([CustomerID]), \\n\\tCONSTRAINT [FK_Customer_Person_PersonID] FOREIGN KEY([PersonID]) REFERENCES [Person].[Person] ([BusinessEntityID]), \\n\\tCONSTRAINT [FK_Customer_SalesTerritory_TerritoryID] FOREIGN KEY([TerritoryID]) REFERENCES [Sales].[SalesTerritory] ([TerritoryID]), \\n\\tCONSTRAINT [FK_Customer_Store_StoreID] FOREIGN KEY([StoreID]) REFERENCES [Sales].[Store] ([BusinessEntityID])\\n)\\n\\n/*\\n3 rows from Customer table:\\nCustomerID\\tPersonID\\tStoreID\\tTerritoryID\\tAccountNumber\\trowguid\\tModifiedDate\\n1\\tNone\\t934\\t1\\tAW00000001\\t3f5ae95e-b87d-4aed-95b4-c3797afcb74f\\t2014-09-12 11:15:07.263000\\n2\\tNone\\t1028\\t1\\tAW00000002\\te552f657-a9af-4a7d-a645-c429d6e02491\\t2014-09-12 11:15:07.263000\\n3\\tNone\\t642\\t4\\tAW00000003\\t130774b1-db21-4ef3-98c8-c104bcd6ed6d\\t2014-09-12 11:15:07.263000\\n*/\\n\\n\\nCREATE TABLE [Sales].[PersonCreditCard] (\\n\\t[BusinessEntityID] INTEGER NOT NULL, \\n\\t[CreditCardID] INTEGER NOT NULL, \\n\\t[ModifiedDate] DATETIME NOT NULL DEFAULT (getdate()), \\n\\tCONSTRAINT [PK_PersonCreditCard_BusinessEntityID_CreditCardID] PRIMARY KEY ([BusinessEntityID], [CreditCardID]), \\n\\tCONSTRAINT [FK_PersonCreditCard_CreditCard_CreditCardID] FOREIGN KEY([CreditCardID]) REFERENCES [Sales].[CreditCard] ([CreditCardID]), \\n\\tCONSTRAINT [FK_PersonCreditCard_Person_BusinessEntityID] FOREIGN KEY([BusinessEntityID]) REFERENCES [Person].[Person] ([BusinessEntityID])\\n)\\n\\n/*\\n3 rows from PersonCreditCard table:\\nBusinessEntityID\\tCreditCardID\\tModifiedDate\\n293\\t17038\\t2013-07-31 00:00:00\\n295\\t15369\\t2011-08-01 00:00:00\\n297\\t8010\\t2011-08-01 00:00:00\\n*/\\n\\n\\nCREATE TABLE [Sales].[SalesOrderDetail] (\\n\\t[SalesOrderID] INTEGER NOT NULL, \\n\\t[SalesOrderDetailID] INTEGER NOT NULL IDENTITY(1,1), \\n\\t[CarrierTrackingNumber] NVARCHAR(25) COLLATE SQL_Latin1_General_CP1_CI_AS NULL, \\n\\t[OrderQty] SMALLINT NOT NULL, \\n\\t[ProductID] INTEGER NOT NULL, \\n\\t[SpecialOfferID] INTEGER NOT NULL, \\n\\t[UnitPrice] MONEY NOT NULL, \\n\\t[UnitPriceDiscount] MONEY NOT NULL DEFAULT ((0.0)), \\n\\t[LineTotal] AS ((isnull(([UnitPrice]*((1.0)-[UnitPriceDiscount]))*[OrderQty],(0.0)))) NOT NULL, \\n\\trowguid UNIQUEIDENTIFIER NOT NULL DEFAULT (newid()), \\n\\t[ModifiedDate] DATETIME NOT NULL DEFAULT (getdate()), \\n\\tCONSTRAINT [PK_SalesOrderDetail_SalesOrderID_SalesOrderDetailID] PRIMARY KEY ([SalesOrderID], [SalesOrderDetailID]), \\n\\tCONSTRAINT [FK_SalesOrderDetail_SalesOrderHeader_SalesOrderID] FOREIGN KEY([SalesOrderID]) REFERENCES [Sales].[SalesOrderHeader] ([SalesOrderID]) ON DELETE CASCADE, \\n\\tCONSTRAINT [FK_SalesOrderDetail_SpecialOfferProduct_SpecialOfferIDProductID] FOREIGN KEY([SpecialOfferID], [ProductID]) REFERENCES [Sales].[SpecialOfferProduct] ([SpecialOfferID], [ProductID])\\n)\\n\\n/*\\n3 rows from SalesOrderDetail table:\\nSalesOrderID\\tSalesOrderDetailID\\tCarrierTrackingNumber\\tOrderQty\\tProductID\\tSpecialOfferID\\tUnitPrice\\tUnitPriceDiscount\\tLineTotal\\trowguid\\tModifiedDate\\n43659\\t1\\t4911-403C-98\\t1\\t776\\t1\\t2024.9940\\t0.0000\\t2024.994000\\tb207c96d-d9e6-402b-8470-2cc176c42283\\t2011-05-31 00:00:00\\n43659\\t2\\t4911-403C-98\\t3\\t777\\t1\\t2024.9940\\t0.0000\\t6074.982000\\t7abb600d-1e77-41be-9fe5-b9142cfc08fa\\t2011-05-31 00:00:00\\n43659\\t3\\t4911-403C-98\\t1\\t778\\t1\\t2024.9940\\t0.0000\\t2024.994000\\t475cf8c6-49f6-486e-b0ad-afc6a50cdd2f\\t2011-05-31 00:00:00\\n*/\\n\\n\\nCREATE TABLE [Sales].[SalesOrderHeaderSalesReason] (\\n\\t[SalesOrderID] INTEGER NOT NULL, \\n\\t[SalesReasonID] INTEGER NOT NULL, \\n\\t[ModifiedDate] DATETIME NOT NULL DEFAULT (getdate()), \\n\\tCONSTRAINT [PK_SalesOrderHeaderSalesReason_SalesOrderID_SalesReasonID] PRIMARY KEY ([SalesOrderID], [SalesReasonID]), \\n\\tCONSTRAINT [FK_SalesOrderHeaderSalesReason_SalesOrderHeader_SalesOrderID] FOREIGN KEY([SalesOrderID]) REFERENCES [Sales].[SalesOrderHeader] ([SalesOrderID]) ON DELETE CASCADE, \\n\\tCONSTRAINT [FK_SalesOrderHeaderSalesReason_SalesReason_SalesReasonID] FOREIGN KEY([SalesReasonID]) REFERENCES [Sales].[SalesReason] ([SalesReasonID])\\n)\\n\\n/*\\n3 rows from SalesOrderHeaderSalesReason table:\\nSalesOrderID\\tSalesReasonID\\tModifiedDate\\n43697\\t5\\t2011-05-31 00:00:00\\n43697\\t9\\t2011-05-31 00:00:00\\n43702\\t5\\t2011-06-01 00:00:00\\n*/\\n\\n\\nCREATE TABLE [Sales].[SalesOrderHeader] (\\n\\t[SalesOrderID] INTEGER NOT NULL IDENTITY(1,1), \\n\\t[RevisionNumber] TINYINT NOT NULL DEFAULT ((0)), \\n\\t[OrderDate] DATETIME NOT NULL DEFAULT (getdate()), \\n\\t[DueDate] DATETIME NOT NULL, \\n\\t[ShipDate] DATETIME NULL, \\n\\t[Status] TINYINT NOT NULL DEFAULT ((1)), \\n\\t[OnlineOrderFlag] BIT NOT NULL DEFAULT ((1)), \\n\\t[SalesOrderNumber] AS ((isnull(N\\'SO\\'+CONVERT([nvarchar](23),[SalesOrderID]),N\\'*** ERROR ***\\'))) NOT NULL, \\n\\t[PurchaseOrderNumber] NVARCHAR(25) COLLATE SQL_Latin1_General_CP1_CI_AS NULL, \\n\\t[AccountNumber] NVARCHAR(15) COLLATE SQL_Latin1_General_CP1_CI_AS NULL, \\n\\t[CustomerID] INTEGER NOT NULL, \\n\\t[SalesPersonID] INTEGER NULL, \\n\\t[TerritoryID] INTEGER NULL, \\n\\t[BillToAddressID] INTEGER NOT NULL, \\n\\t[ShipToAddressID] INTEGER NOT NULL, \\n\\t[ShipMethodID] INTEGER NOT NULL, \\n\\t[CreditCardID] INTEGER NULL, \\n\\t[CreditCardApprovalCode] VARCHAR(15) COLLATE SQL_Latin1_General_CP1_CI_AS NULL, \\n\\t[CurrencyRateID] INTEGER NULL, \\n\\t[SubTotal] MONEY NOT NULL DEFAULT ((0.00)), \\n\\t[TaxAmt] MONEY NOT NULL DEFAULT ((0.00)), \\n\\t[Freight] MONEY NOT NULL DEFAULT ((0.00)), \\n\\t[TotalDue] AS ((isnull(([SubTotal]+[TaxAmt])+[Freight],(0)))) NOT NULL, \\n\\t[Comment] NVARCHAR(128) COLLATE SQL_Latin1_General_CP1_CI_AS NULL, \\n\\trowguid UNIQUEIDENTIFIER NOT NULL DEFAULT (newid()), \\n\\t[ModifiedDate] DATETIME NOT NULL DEFAULT (getdate()), \\n\\tCONSTRAINT [PK_SalesOrderHeader_SalesOrderID] PRIMARY KEY ([SalesOrderID]), \\n\\tCONSTRAINT [FK_SalesOrderHeader_Address_BillToAddressID] FOREIGN KEY([BillToAddressID]) REFERENCES [Person].[Address] ([AddressID]), \\n\\tCONSTRAINT [FK_SalesOrderHeader_Address_ShipToAddressID] FOREIGN KEY([ShipToAddressID]) REFERENCES [Person].[Address] ([AddressID]), \\n\\tCONSTRAINT [FK_SalesOrderHeader_CreditCard_CreditCardID] FOREIGN KEY([CreditCardID]) REFERENCES [Sales].[CreditCard] ([CreditCardID]), \\n\\tCONSTRAINT [FK_SalesOrderHeader_CurrencyRate_CurrencyRateID] FOREIGN KEY([CurrencyRateID]) REFERENCES [Sales].[CurrencyRate] ([CurrencyRateID]), \\n\\tCONSTRAINT [FK_SalesOrderHeader_Customer_CustomerID] FOREIGN KEY([CustomerID]) REFERENCES [Sales].[Customer] ([CustomerID]), \\n\\tCONSTRAINT [FK_SalesOrderHeader_SalesPerson_SalesPersonID] FOREIGN KEY([SalesPersonID]) REFERENCES [Sales].[SalesPerson] ([BusinessEntityID]), \\n\\tCONSTRAINT [FK_SalesOrderHeader_SalesTerritory_TerritoryID] FOREIGN KEY([TerritoryID]) REFERENCES [Sales].[SalesTerritory] ([TerritoryID]), \\n\\tCONSTRAINT [FK_SalesOrderHeader_ShipMethod_ShipMethodID] FOREIGN KEY([ShipMethodID]) REFERENCES [Purchasing].[ShipMethod] ([ShipMethodID])\\n)\\n\\n/*\\n3 rows from SalesOrderHeader table:\\nSalesOrderID\\tRevisionNumber\\tOrderDate\\tDueDate\\tShipDate\\tStatus\\tOnlineOrderFlag\\tSalesOrderNumber\\tPurchaseOrderNumber\\tAccountNumber\\tCustomerID\\tSalesPersonID\\tTerritoryID\\tBillToAddressID\\tShipToAddressID\\tShipMethodID\\tCreditCardID\\tCreditCardApprovalCode\\tCurrencyRateID\\tSubTotal\\tTaxAmt\\tFreight\\tTotalDue\\tComment\\trowguid\\tModifiedDate\\n43659\\t8\\t2011-05-31 00:00:00\\t2011-06-12 00:00:00\\t2011-06-07 00:00:00\\t5\\tFalse\\tSO43659\\tPO522145787\\t10-4020-000676\\t29825\\t279\\t5\\t985\\t985\\t5\\t16281\\t105041Vi84182\\tNone\\t20565.6206\\t1971.5149\\t616.0984\\t23153.2339\\tNone\\t79b65321-39ca-4115-9cba-8fe0903e12e6\\t2011-06-07 00:00:00\\n43660\\t8\\t2011-05-31 00:00:00\\t2011-06-12 00:00:00\\t2011-06-07 00:00:00\\t5\\tFalse\\tSO43660\\tPO18850127500\\t10-4020-000117\\t29672\\t279\\t5\\t921\\t921\\t5\\t5618\\t115213Vi29411\\tNone\\t1294.2529\\t124.2483\\t38.8276\\t1457.3288\\tNone\\t738dc42d-d03b-48a1-9822-f95a67ea7389\\t2011-06-07 00:00:00\\n43661\\t8\\t2011-05-31 00:00:00\\t2011-06-12 00:00:00\\t2011-06-07 00:00:00\\t5\\tFalse\\tSO43661\\tPO18473189620\\t10-4020-000442\\t29734\\t282\\t6\\t517\\t517\\t5\\t1346\\t85274Vi6854\\t4\\t32726.4786\\t3153.7696\\t985.5530\\t36865.8012\\tNone\\td91b9131-18a4-4a11-bc3a-90b6f53e9d74\\t2011-06-07 00:00:00\\n*/\\n\\n\\nCREATE TABLE [Sales].[SalesPersonQuotaHistory] (\\n\\t[BusinessEntityID] INTEGER NOT NULL, \\n\\t[QuotaDate] DATETIME NOT NULL, \\n\\t[SalesQuota] MONEY NOT NULL, \\n\\trowguid UNIQUEIDENTIFIER NOT NULL DEFAULT (newid()), \\n\\t[ModifiedDate] DATETIME NOT NULL DEFAULT (getdate()), \\n\\tCONSTRAINT [PK_SalesPersonQuotaHistory_BusinessEntityID_QuotaDate] PRIMARY KEY ([BusinessEntityID], [QuotaDate]), \\n\\tCONSTRAINT [FK_SalesPersonQuotaHistory_SalesPerson_BusinessEntityID] FOREIGN KEY([BusinessEntityID]) REFERENCES [Sales].[SalesPerson] ([BusinessEntityID])\\n)\\n\\n/*\\n3 rows from SalesPersonQuotaHistory table:\\nBusinessEntityID\\tQuotaDate\\tSalesQuota\\trowguid\\tModifiedDate\\n274\\t2011-05-31 00:00:00\\t28000.0000\\t99109bbf-8693-4587-bc23-6036ec89e1be\\t2011-04-16 00:00:00\\n274\\t2011-08-31 00:00:00\\t7000.0000\\tdfd01444-8900-461c-8d6f-04598dae01d4\\t2011-07-17 00:00:00\\n274\\t2011-12-01 00:00:00\\t91000.0000\\t0a69f453-9689-4ccf-a08c-c644670f5668\\t2011-10-17 00:00:00\\n*/\\n\\n\\nCREATE TABLE [Sales].[SalesPerson] (\\n\\t[BusinessEntityID] INTEGER NOT NULL, \\n\\t[TerritoryID] INTEGER NULL, \\n\\t[SalesQuota] MONEY NULL, \\n\\t[Bonus] MONEY NOT NULL DEFAULT ((0.00)), \\n\\t[CommissionPct] SMALLMONEY NOT NULL DEFAULT ((0.00)), \\n\\t[SalesYTD] MONEY NOT NULL DEFAULT ((0.00)), \\n\\t[SalesLastYear] MONEY NOT NULL DEFAULT ((0.00)), \\n\\trowguid UNIQUEIDENTIFIER NOT NULL DEFAULT (newid()), \\n\\t[ModifiedDate] DATETIME NOT NULL DEFAULT (getdate()), \\n\\tCONSTRAINT [PK_SalesPerson_BusinessEntityID] PRIMARY KEY ([BusinessEntityID]), \\n\\tCONSTRAINT [FK_SalesPerson_Employee_BusinessEntityID] FOREIGN KEY([BusinessEntityID]) REFERENCES [HumanResources].[Employee] ([BusinessEntityID]), \\n\\tCONSTRAINT [FK_SalesPerson_SalesTerritory_TerritoryID] FOREIGN KEY([TerritoryID]) REFERENCES [Sales].[SalesTerritory] ([TerritoryID])\\n)\\n\\n/*\\n3 rows from SalesPerson table:\\nBusinessEntityID\\tTerritoryID\\tSalesQuota\\tBonus\\tCommissionPct\\tSalesYTD\\tSalesLastYear\\trowguid\\tModifiedDate\\n274\\tNone\\tNone\\t0.0000\\t0.0000\\t559697.5639\\t0.0000\\t48754992-9ee0-4c0e-8c94-9451604e3e02\\t2010-12-28 00:00:00\\n275\\t2\\t300000.0000\\t4100.0000\\t0.0120\\t3763178.1787\\t1750406.4785\\t1e0a7274-3064-4f58-88ee-4c6586c87169\\t2011-05-24 00:00:00\\n276\\t4\\t250000.0000\\t2000.0000\\t0.0150\\t4251368.5497\\t1439156.0291\\t4dd9eee4-8e81-4f8c-af97-683394c1f7c0\\t2011-05-24 00:00:00\\n*/\\n\\n\\nCREATE TABLE [Sales].[SalesReason] (\\n\\t[SalesReasonID] INTEGER NOT NULL IDENTITY(1,1), \\n\\t[Name] NVARCHAR(50) COLLATE SQL_Latin1_General_CP1_CI_AS NOT NULL, \\n\\t[ReasonType] NVARCHAR(50) COLLATE SQL_Latin1_General_CP1_CI_AS NOT NULL, \\n\\t[ModifiedDate] DATETIME NOT NULL DEFAULT (getdate()), \\n\\tCONSTRAINT [PK_SalesReason_SalesReasonID] PRIMARY KEY ([SalesReasonID])\\n)\\n\\n/*\\n3 rows from SalesReason table:\\nSalesReasonID\\tName\\tReasonType\\tModifiedDate\\n1\\tPrice\\tOther\\t2008-04-30 00:00:00\\n2\\tOn Promotion\\tPromotion\\t2008-04-30 00:00:00\\n3\\tMagazine Advertisement\\tMarketing\\t2008-04-30 00:00:00\\n*/\\n\\n\\nCREATE TABLE [Sales].[SalesTaxRate] (\\n\\t[SalesTaxRateID] INTEGER NOT NULL IDENTITY(1,1), \\n\\t[StateProvinceID] INTEGER NOT NULL, \\n\\t[TaxType] TINYINT NOT NULL, \\n\\t[TaxRate] SMALLMONEY NOT NULL DEFAULT ((0.00)), \\n\\t[Name] NVARCHAR(50) COLLATE SQL_Latin1_General_CP1_CI_AS NOT NULL, \\n\\trowguid UNIQUEIDENTIFIER NOT NULL DEFAULT (newid()), \\n\\t[ModifiedDate] DATETIME NOT NULL DEFAULT (getdate()), \\n\\tCONSTRAINT [PK_SalesTaxRate_SalesTaxRateID] PRIMARY KEY ([SalesTaxRateID]), \\n\\tCONSTRAINT [FK_SalesTaxRate_StateProvince_StateProvinceID] FOREIGN KEY([StateProvinceID]) REFERENCES [Person].[StateProvince] ([StateProvinceID])\\n)\\n\\n/*\\n3 rows from SalesTaxRate table:\\nSalesTaxRateID\\tStateProvinceID\\tTaxType\\tTaxRate\\tName\\trowguid\\tModifiedDate\\n1\\t1\\t1\\t14.0000\\tCanadian GST + Alberta Provincial Tax\\t683de5dd-521a-47d4-a573-06a3cdb1bc5d\\t2008-04-30 00:00:00\\n2\\t57\\t1\\t14.2500\\tCanadian GST + Ontario Provincial Tax\\t05c4ffdb-4f84-4cdf-abe5-fdf3216ea74e\\t2008-04-30 00:00:00\\n3\\t63\\t1\\t14.2500\\tCanadian GST + Quebec Provincial Tax\\td4edb557-56d7-403c-b538-4df5e7302588\\t2008-04-30 00:00:00\\n*/\\n\\n\\nCREATE TABLE [Sales].[SalesTerritoryHistory] (\\n\\t[BusinessEntityID] INTEGER NOT NULL, \\n\\t[TerritoryID] INTEGER NOT NULL, \\n\\t[StartDate] DATETIME NOT NULL, \\n\\t[EndDate] DATETIME NULL, \\n\\trowguid UNIQUEIDENTIFIER NOT NULL DEFAULT (newid()), \\n\\t[ModifiedDate] DATETIME NOT NULL DEFAULT (getdate()), \\n\\tCONSTRAINT [PK_SalesTerritoryHistory_BusinessEntityID_StartDate_TerritoryID] PRIMARY KEY ([BusinessEntityID], [StartDate], [TerritoryID]), \\n\\tCONSTRAINT [FK_SalesTerritoryHistory_SalesPerson_BusinessEntityID] FOREIGN KEY([BusinessEntityID]) REFERENCES [Sales].[SalesPerson] ([BusinessEntityID]), \\n\\tCONSTRAINT [FK_SalesTerritoryHistory_SalesTerritory_TerritoryID] FOREIGN KEY([TerritoryID]) REFERENCES [Sales].[SalesTerritory] ([TerritoryID])\\n)\\n\\n/*\\n3 rows from SalesTerritoryHistory table:\\nBusinessEntityID\\tTerritoryID\\tStartDate\\tEndDate\\trowguid\\tModifiedDate\\n275\\t2\\t2011-05-31 00:00:00\\t2012-11-29 00:00:00\\t8563ce6a-00ff-47d7-ba4d-3c3e1cdef531\\t2012-11-22 00:00:00\\n275\\t3\\t2012-11-30 00:00:00\\tNone\\t2f44304c-ee87-4c72-813e-ca75c5f61f4c\\t2012-11-23 00:00:00\\n276\\t4\\t2011-05-31 00:00:00\\tNone\\t64bcb1b3-a793-40ba-9859-d90f78c3f167\\t2011-05-24 00:00:00\\n*/\\n\\n\\nCREATE TABLE [Sales].[SalesTerritory] (\\n\\t[TerritoryID] INTEGER NOT NULL IDENTITY(1,1), \\n\\t[Name] NVARCHAR(50) COLLATE SQL_Latin1_General_CP1_CI_AS NOT NULL, \\n\\t[CountryRegionCode] NVARCHAR(3) COLLATE SQL_Latin1_General_CP1_CI_AS NOT NULL, \\n\\t[Group] NVARCHAR(50) COLLATE SQL_Latin1_General_CP1_CI_AS NOT NULL, \\n\\t[SalesYTD] MONEY NOT NULL DEFAULT ((0.00)), \\n\\t[SalesLastYear] MONEY NOT NULL DEFAULT ((0.00)), \\n\\t[CostYTD] MONEY NOT NULL DEFAULT ((0.00)), \\n\\t[CostLastYear] MONEY NOT NULL DEFAULT ((0.00)), \\n\\trowguid UNIQUEIDENTIFIER NOT NULL DEFAULT (newid()), \\n\\t[ModifiedDate] DATETIME NOT NULL DEFAULT (getdate()), \\n\\tCONSTRAINT [PK_SalesTerritory_TerritoryID] PRIMARY KEY ([TerritoryID]), \\n\\tCONSTRAINT [FK_SalesTerritory_CountryRegion_CountryRegionCode] FOREIGN KEY([CountryRegionCode]) REFERENCES [Person].[CountryRegion] ([CountryRegionCode])\\n)\\n\\n/*\\n3 rows from SalesTerritory table:\\nTerritoryID\\tName\\tCountryRegionCode\\tGroup\\tSalesYTD\\tSalesLastYear\\tCostYTD\\tCostLastYear\\trowguid\\tModifiedDate\\n1\\tNorthwest\\tUS\\tNorth America\\t7887186.7882\\t3298694.4938\\t0.0000\\t0.0000\\t43689a10-e30b-497f-b0de-11de20267ff7\\t2008-04-30 00:00:00\\n2\\tNortheast\\tUS\\tNorth America\\t2402176.8476\\t3607148.9371\\t0.0000\\t0.0000\\t00fb7309-96cc-49e2-8363-0a1ba72486f2\\t2008-04-30 00:00:00\\n3\\tCentral\\tUS\\tNorth America\\t3072175.1180\\t3205014.0767\\t0.0000\\t0.0000\\tdf6e7fd8-1a8d-468c-b103-ed8addb452c1\\t2008-04-30 00:00:00\\n*/\\n\\n\\nCREATE TABLE [Sales].[ShoppingCartItem] (\\n\\t[ShoppingCartItemID] INTEGER NOT NULL IDENTITY(1,1), \\n\\t[ShoppingCartID] NVARCHAR(50) COLLATE SQL_Latin1_General_CP1_CI_AS NOT NULL, \\n\\t[Quantity] INTEGER NOT NULL DEFAULT ((1)), \\n\\t[ProductID] INTEGER NOT NULL, \\n\\t[DateCreated] DATETIME NOT NULL DEFAULT (getdate()), \\n\\t[ModifiedDate] DATETIME NOT NULL DEFAULT (getdate()), \\n\\tCONSTRAINT [PK_ShoppingCartItem_ShoppingCartItemID] PRIMARY KEY ([ShoppingCartItemID]), \\n\\tCONSTRAINT [FK_ShoppingCartItem_Product_ProductID] FOREIGN KEY([ProductID]) REFERENCES [Production].[Product] ([ProductID])\\n)\\n\\n/*\\n3 rows from ShoppingCartItem table:\\nShoppingCartItemID\\tShoppingCartID\\tQuantity\\tProductID\\tDateCreated\\tModifiedDate\\n2\\t14951\\t3\\t862\\t2013-11-09 17:54:07.603000\\t2013-11-09 17:54:07.603000\\n4\\t20621\\t4\\t881\\t2013-11-09 17:54:07.603000\\t2013-11-09 17:54:07.603000\\n5\\t20621\\t7\\t874\\t2013-11-09 17:54:07.603000\\t2013-11-09 17:54:07.603000\\n*/\\n\\n\\nCREATE TABLE [Sales].[SpecialOfferProduct] (\\n\\t[SpecialOfferID] INTEGER NOT NULL, \\n\\t[ProductID] INTEGER NOT NULL, \\n\\trowguid UNIQUEIDENTIFIER NOT NULL DEFAULT (newid()), \\n\\t[ModifiedDate] DATETIME NOT NULL DEFAULT (getdate()), \\n\\tCONSTRAINT [PK_SpecialOfferProduct_SpecialOfferID_ProductID] PRIMARY KEY ([SpecialOfferID], [ProductID]), \\n\\tCONSTRAINT [FK_SpecialOfferProduct_Product_ProductID] FOREIGN KEY([ProductID]) REFERENCES [Production].[Product] ([ProductID]), \\n\\tCONSTRAINT [FK_SpecialOfferProduct_SpecialOffer_SpecialOfferID] FOREIGN KEY([SpecialOfferID]) REFERENCES [Sales].[SpecialOffer] ([SpecialOfferID])\\n)\\n\\n/*\\n3 rows from SpecialOfferProduct table:\\nSpecialOfferID\\tProductID\\trowguid\\tModifiedDate\\n1\\t680\\tbb30b868-d86c-4557-8db2-4b2d0a83a0fb\\t2011-04-01 00:00:00\\n1\\t706\\tb3c9a4b1-2ae6-4cba-b552-1f206c9f4c1f\\t2011-04-01 00:00:00\\n1\\t707\\t27b711fe-0b77-4ea4-ad1a-7c239956bef4\\t2011-04-01 00:00:00\\n*/\\n\\n\\nCREATE TABLE [Sales].[SpecialOffer] (\\n\\t[SpecialOfferID] INTEGER NOT NULL IDENTITY(1,1), \\n\\t[Description] NVARCHAR(255) COLLATE SQL_Latin1_General_CP1_CI_AS NOT NULL, \\n\\t[DiscountPct] SMALLMONEY NOT NULL DEFAULT ((0.00)), \\n\\t[Type] NVARCHAR(50) COLLATE SQL_Latin1_General_CP1_CI_AS NOT NULL, \\n\\t[Category] NVARCHAR(50) COLLATE SQL_Latin1_General_CP1_CI_AS NOT NULL, \\n\\t[StartDate] DATETIME NOT NULL, \\n\\t[EndDate] DATETIME NOT NULL, \\n\\t[MinQty] INTEGER NOT NULL DEFAULT ((0)), \\n\\t[MaxQty] INTEGER NULL, \\n\\trowguid UNIQUEIDENTIFIER NOT NULL DEFAULT (newid()), \\n\\t[ModifiedDate] DATETIME NOT NULL DEFAULT (getdate()), \\n\\tCONSTRAINT [PK_SpecialOffer_SpecialOfferID] PRIMARY KEY ([SpecialOfferID])\\n)\\n\\n/*\\n3 rows from SpecialOffer table:\\nSpecialOfferID\\tDescription\\tDiscountPct\\tType\\tCategory\\tStartDate\\tEndDate\\tMinQty\\tMaxQty\\trowguid\\tModifiedDate\\n1\\tNo Discount\\t0.0000\\tNo Discount\\tNo Discount\\t2011-05-01 00:00:00\\t2014-11-30 00:00:00\\t0\\tNone\\t0290c4f5-191f-4337-ab6b-0a2dde03cbf9\\t2011-04-01 00:00:00\\n2\\tVolume Discount 11 to 14\\t0.0200\\tVolume Discount\\tReseller\\t2011-05-31 00:00:00\\t2014-05-30 00:00:00\\t11\\t14\\td7542ee7-15db-4541-985c-5cc27aef26d6\\t2011-05-01 00:00:00\\n3\\tVolume Discount 15 to 24\\t0.0500\\tVolume Discount\\tReseller\\t2011-05-31 00:00:00\\t2014-05-30 00:00:00\\t15\\t24\\t4bdbcc01-8cf7-40a9-b643-40ec5b717491\\t2011-05-01 00:00:00\\n*/\\n\\n\\nCREATE TABLE [Sales].[Store] (\\n\\t[BusinessEntityID] INTEGER NOT NULL, \\n\\t[Name] NVARCHAR(50) COLLATE SQL_Latin1_General_CP1_CI_AS NOT NULL, \\n\\t[SalesPersonID] INTEGER NULL, \\n\\t[Demographics] XML NULL, \\n\\trowguid UNIQUEIDENTIFIER NOT NULL DEFAULT (newid()), \\n\\t[ModifiedDate] DATETIME NOT NULL DEFAULT (getdate()), \\n\\tCONSTRAINT [PK_Store_BusinessEntityID] PRIMARY KEY ([BusinessEntityID]), \\n\\tCONSTRAINT [FK_Store_BusinessEntity_BusinessEntityID] FOREIGN KEY([BusinessEntityID]) REFERENCES [Person].[BusinessEntity] ([BusinessEntityID]), \\n\\tCONSTRAINT [FK_Store_SalesPerson_SalesPersonID] FOREIGN KEY([SalesPersonID]) REFERENCES [Sales].[SalesPerson] ([BusinessEntityID])\\n)\\n\\n/*\\n3 rows from Store table:\\nBusinessEntityID\\tName\\tSalesPersonID\\tDemographics\\trowguid\\tModifiedDate\\n292\\tNext-Door Bike Store\\t279\\t<StoreSurvey xmlns=\"http://schemas.microsoft.com/sqlserver/2004/07/adventure-works/StoreSurvey\"><Ann\\ta22517e3-848d-4ebe-b9d9-7437f3432304\\t2014-09-12 11:15:07.497000\\n294\\tProfessional Sales and Service\\t276\\t<StoreSurvey xmlns=\"http://schemas.microsoft.com/sqlserver/2004/07/adventure-works/StoreSurvey\"><Ann\\tb50ca50b-c601-4a13-b07e-2c63862d71b4\\t2014-09-12 11:15:07.497000\\n296\\tRiders Company\\t277\\t<StoreSurvey xmlns=\"http://schemas.microsoft.com/sqlserver/2004/07/adventure-works/StoreSurvey\"><Ann\\t337c3688-1339-4e1a-a08a-b54b23566e49\\t2014-09-12 11:15:07.497000\\n*/'"
      ]
     },
     "execution_count": 32,
     "metadata": {},
     "output_type": "execute_result"
    }
   ],
   "source": [
    "dbase.get_table_info()"
   ]
  },
  {
   "cell_type": "code",
   "execution_count": 60,
   "id": "36e238c1",
   "metadata": {},
   "outputs": [
    {
     "name": "stderr",
     "output_type": "stream",
     "text": [
      "C:\\Users\\Sreehari\\AppData\\Roaming\\Python\\Python311\\site-packages\\langchain_community\\utilities\\sql_database.py:123: SAWarning: Did not recognize type 'geography' of column 'SpatialLocation'\n",
      "  self._metadata.reflect(\n"
     ]
    },
    {
     "name": "stdout",
     "output_type": "stream",
     "text": [
      "\n",
      "\n",
      "\u001b[1m> Entering new SQLDatabaseChain chain...\u001b[0m\n",
      "How many persons whose home address is in country France?\n",
      "SQLQuery:\u001b[32;1m\u001b[1;3mSELECT COUNT(DISTINCT p.[BusinessEntityID])\n",
      "FROM [Person].[Person] p\n",
      "JOIN [Person].[BusinessEntityAddress] bea ON p.[BusinessEntityID] = bea.[BusinessEntityID]\n",
      "JOIN [Person].[Address] a ON bea.[AddressID] = a.[AddressID]\n",
      "JOIN [Person].[StateProvince] sp ON a.[StateProvinceID] = sp.[StateProvinceID]\n",
      "JOIN [Person].[CountryRegion] cr ON sp.[CountryRegionCode] = cr.[CountryRegionCode]\n",
      "WHERE cr.[Name] = 'France'\u001b[0m\n",
      "SQLResult: \u001b[33;1m\u001b[1;3m[(1811,)]\u001b[0m\n",
      "Answer:\u001b[32;1m\u001b[1;3mThere are 1811 persons whose home address is in France.\u001b[0m\n",
      "\u001b[1m> Finished chain.\u001b[0m\n"
     ]
    }
   ],
   "source": [
    "from langchain_community.utilities.sql_database import SQLDatabase\n",
    "from langchain.chat_models import ChatOpenAI\n",
    "from langchain_experimental.sql.base import SQLDatabaseChain\n",
    "\n",
    "# Your SQL Server connection URI\n",
    "connection_uri = (\n",
    "    \"mssql+pyodbc://@LAPTOP-RES6G37K/adventureworks2019\"\n",
    "    \"?driver=ODBC+Driver+17+for+SQL+Server\"\n",
    "    \"&trusted_connection=yes\"\n",
    ")\n",
    "\n",
    "# Pass multiple schemas to include_schemas\n",
    "db = SQLDatabase.from_uri(\n",
    "    connection_uri,\n",
    "    schema=\"Person\"  # Example multiple schemas\n",
    ")\n",
    "\n",
    "# Set up LLM\n",
    "llm = ChatOpenAI(temperature=0, model=\"gpt-4\")\n",
    "\n",
    "# Create SQLDatabaseChain\n",
    "db_chain = SQLDatabaseChain.from_llm(llm=llm, db=db, verbose=True,return_intermediate_steps=True,)\n",
    "\n",
    "# Run a natural language question\n",
    "response = db_chain.invoke(\"How many persons whose home address is in country France?\")\n",
    "\n"
   ]
  },
  {
   "cell_type": "code",
   "execution_count": 58,
   "id": "f7a1eaf0",
   "metadata": {},
   "outputs": [
    {
     "data": {
      "text/plain": [
       "58"
      ]
     },
     "execution_count": 58,
     "metadata": {},
     "output_type": "execute_result"
    }
   ],
   "source": [
    "len(response['intermediate_steps'][1])"
   ]
  },
  {
   "cell_type": "code",
   "execution_count": 35,
   "id": "4f9e1c93",
   "metadata": {},
   "outputs": [],
   "source": [
    "# Your SQL Server connection URI\n",
    "connection_uri = (\n",
    "    \"mssql+pyodbc://@LAPTOP-RES6G37K/adventureworks2019\"\n",
    "    \"?driver=ODBC+Driver+17+for+SQL+Server\"\n",
    "    \"&trusted_connection=yes\"\n",
    ")"
   ]
  },
  {
   "cell_type": "code",
   "execution_count": 36,
   "id": "3c752c8a",
   "metadata": {},
   "outputs": [
    {
     "name": "stdout",
     "output_type": "stream",
     "text": [
      "\n",
      "Schema: db_accessadmin\n",
      "\n",
      "Schema: db_backupoperator\n",
      "\n",
      "Schema: db_datareader\n",
      "\n",
      "Schema: db_datawriter\n",
      "\n",
      "Schema: db_ddladmin\n",
      "\n",
      "Schema: db_denydatareader\n",
      "\n",
      "Schema: db_denydatawriter\n",
      "\n",
      "Schema: db_owner\n",
      "\n",
      "Schema: db_securityadmin\n",
      "\n",
      "Schema: dbo\n",
      "  dbo.AWBuildVersion\n",
      "  dbo.DatabaseLog\n",
      "  dbo.ErrorLog\n",
      "\n",
      "Schema: guest\n",
      "\n",
      "Schema: HumanResources\n",
      "  HumanResources.Department\n",
      "  HumanResources.Employee\n",
      "  HumanResources.EmployeeDepartmentHistory\n",
      "  HumanResources.EmployeePayHistory\n",
      "  HumanResources.JobCandidate\n",
      "  HumanResources.Shift\n",
      "\n",
      "Schema: INFORMATION_SCHEMA\n",
      "\n",
      "Schema: LAPTOP-RES6G37K\\Sreehari\n",
      "\n",
      "Schema: Person\n",
      "  Person.Address\n",
      "  Person.AddressType\n",
      "  Person.BusinessEntity\n",
      "  Person.BusinessEntityAddress\n",
      "  Person.BusinessEntityContact\n",
      "  Person.ContactType\n",
      "  Person.CountryRegion\n",
      "  Person.EmailAddress\n",
      "  Person.Password\n",
      "  Person.Person\n",
      "  Person.PersonPhone\n",
      "  Person.PhoneNumberType\n",
      "  Person.StateProvince\n",
      "\n",
      "Schema: Production\n",
      "  Production.BillOfMaterials\n",
      "  Production.Culture\n",
      "  Production.Document\n",
      "  Production.Illustration\n",
      "  Production.Location\n",
      "  Production.Product\n",
      "  Production.ProductCategory\n",
      "  Production.ProductCostHistory\n",
      "  Production.ProductDescription\n",
      "  Production.ProductDocument\n",
      "  Production.ProductInventory\n",
      "  Production.ProductListPriceHistory\n",
      "  Production.ProductModel\n",
      "  Production.ProductModelIllustration\n",
      "  Production.ProductModelProductDescriptionCulture\n",
      "  Production.ProductPhoto\n",
      "  Production.ProductProductPhoto\n",
      "  Production.ProductReview\n",
      "  Production.ProductSubcategory\n",
      "  Production.ScrapReason\n",
      "  Production.TransactionHistory\n",
      "  Production.TransactionHistoryArchive\n",
      "  Production.UnitMeasure\n",
      "  Production.WorkOrder\n",
      "  Production.WorkOrderRouting\n",
      "\n",
      "Schema: Purchasing\n",
      "  Purchasing.ProductVendor\n",
      "  Purchasing.PurchaseOrderDetail\n",
      "  Purchasing.PurchaseOrderHeader\n",
      "  Purchasing.ShipMethod\n",
      "  Purchasing.Vendor\n",
      "\n",
      "Schema: Sales\n",
      "  Sales.CountryRegionCurrency\n",
      "  Sales.CreditCard\n",
      "  Sales.Currency\n",
      "  Sales.CurrencyRate\n",
      "  Sales.Customer\n",
      "  Sales.PersonCreditCard\n",
      "  Sales.SalesOrderDetail\n",
      "  Sales.SalesOrderHeader\n",
      "  Sales.SalesOrderHeaderSalesReason\n",
      "  Sales.SalesPerson\n",
      "  Sales.SalesPersonQuotaHistory\n",
      "  Sales.SalesReason\n",
      "  Sales.SalesTaxRate\n",
      "  Sales.SalesTerritory\n",
      "  Sales.SalesTerritoryHistory\n",
      "  Sales.ShoppingCartItem\n",
      "  Sales.SpecialOffer\n",
      "  Sales.SpecialOfferProduct\n",
      "  Sales.Store\n",
      "\n",
      "Schema: sys\n"
     ]
    }
   ],
   "source": [
    "from sqlalchemy import create_engine, inspect\n",
    "\n",
    "engine = create_engine(connection_uri)\n",
    "inspector = inspect(engine)\n",
    "\n",
    "for schema in inspector.get_schema_names():\n",
    "    print(f\"\\nSchema: {schema}\")\n",
    "    for table in inspector.get_table_names(schema=schema):\n",
    "        print(f\"  {schema}.{table}\")"
   ]
  },
  {
   "cell_type": "code",
   "execution_count": 61,
   "id": "3b486221",
   "metadata": {},
   "outputs": [
    {
     "name": "stderr",
     "output_type": "stream",
     "text": [
      "C:\\Users\\Sreehari\\AppData\\Roaming\\Python\\Python311\\site-packages\\langchain_community\\utilities\\sql_database.py:123: SAWarning: Did not recognize type 'geography' of column 'SpatialLocation'\n",
      "  self._metadata.reflect(\n"
     ]
    },
    {
     "name": "stdout",
     "output_type": "stream",
     "text": [
      "\n",
      "\n",
      "\u001b[1m> Entering new SQLDatabaseChain chain...\u001b[0m\n",
      "How many persons whose sales territory group is belongs to Europe?\n",
      "SQLQuery:\u001b[32;1m\u001b[1;3mSELECT COUNT(DISTINCT [Person].[BusinessEntityID]) \n",
      "FROM [Person].[Person]\n",
      "JOIN [Person].[BusinessEntityAddress] ON [Person].[BusinessEntityID] = [BusinessEntityAddress].[BusinessEntityID]\n",
      "JOIN [Person].[Address] ON [BusinessEntityAddress].[AddressID] = [Address].[AddressID]\n",
      "JOIN [Person].[StateProvince] ON [Address].[StateProvinceID] = [StateProvince].[StateProvinceID]\n",
      "JOIN [Sales].[SalesTerritory] ON [StateProvince].[TerritoryID] = [SalesTerritory].[TerritoryID]\n",
      "WHERE [SalesTerritory].[Group] = 'Europe'\u001b[0m\n",
      "SQLResult: \u001b[33;1m\u001b[1;3m[(5506,)]\u001b[0m\n",
      "Answer:\u001b[32;1m\u001b[1;3mThere are 5506 persons whose sales territory group belongs to Europe.\u001b[0m\n",
      "\u001b[1m> Finished chain.\u001b[0m\n"
     ]
    }
   ],
   "source": [
    "from langchain_community.utilities.sql_database import SQLDatabase\n",
    "from langchain.chat_models import ChatOpenAI\n",
    "from langchain_experimental.sql.base import SQLDatabaseChain\n",
    "\n",
    "# Your SQL Server connection URI\n",
    "connection_uri = (\n",
    "    \"mssql+pyodbc://@LAPTOP-RES6G37K/adventureworks2019\"\n",
    "    \"?driver=ODBC+Driver+17+for+SQL+Server\"\n",
    "    \"&trusted_connection=yes\"\n",
    ")\n",
    "\n",
    "# Pass multiple schemas to include_schemas\n",
    "db = SQLDatabase.from_uri(\n",
    "    connection_uri,\n",
    "    schema=\"Person\"  # Example multiple schemas\n",
    ")\n",
    "\n",
    "# Set up LLM\n",
    "llm = ChatOpenAI(temperature=0, model=\"gpt-4\")\n",
    "\n",
    "# Create SQLDatabaseChain\n",
    "db_chain = SQLDatabaseChain.from_llm(llm=llm, db=db, verbose=True,return_intermediate_steps=True,)\n",
    "\n",
    "# Run a natural language question\n",
    "response = db_chain.invoke(\"How many persons whose sales territory group is belongs to Europe?\")\n",
    "\n"
   ]
  },
  {
   "cell_type": "code",
   "execution_count": null,
   "id": "1dd353d3",
   "metadata": {},
   "outputs": [],
   "source": [
    "from langchain_community.utilities.sql_database import SQLDatabase\n",
    "from langchain.chat_models import ChatOpenAI\n",
    "from langchain_experimental.sql.base import SQLDatabaseChain\n",
    "\n",
    "# Your SQL Server connection URI\n",
    "connection_uri = (\n",
    "    \"mssql+pyodbc://@LAPTOP-RES6G37K/adventureworks2019\"\n",
    "    \"?driver=ODBC+Driver+17+for+SQL+Server\"\n",
    "    \"&trusted_connection=yes\"\n",
    ")\n",
    "\n",
    "# Pass multiple schemas to include_schemas\n",
    "db = SQLDatabase.from_uri(\n",
    "    connection_uri,\n",
    "    schema=\"Person\"  # Example multiple schemas\n",
    ")\n",
    "\n",
    "# Set up LLM\n",
    "llm = ChatOpenAI(temperature=0, model=\"gpt-4\")\n",
    "\n",
    "# Create SQLDatabaseChain\n",
    "db_chain = SQLDatabaseChain.from_llm(llm=llm, db=db, verbose=True,return_intermediate_steps=True,)\n",
    "\n",
    "# Run a natural language question\n",
    "response = db_chain.invoke(\"How many persons whose sales territory group is belongs to Europe?\")\n",
    "\n"
   ]
  },
  {
   "cell_type": "code",
   "execution_count": 63,
   "id": "3cdc085e",
   "metadata": {},
   "outputs": [],
   "source": [
    "all_tables = list(meta.tables.keys())"
   ]
  },
  {
   "cell_type": "code",
   "execution_count": 66,
   "id": "effda264",
   "metadata": {},
   "outputs": [
    {
     "name": "stderr",
     "output_type": "stream",
     "text": [
      "C:\\Users\\Sreehari\\AppData\\Roaming\\Python\\Python311\\site-packages\\langchain_community\\utilities\\sql_database.py:123: SAWarning: Did not recognize type 'geography' of column 'SpatialLocation'\n",
      "  self._metadata.reflect(\n"
     ]
    }
   ],
   "source": [
    "from langchain_community.utilities.sql_database import SQLDatabase\n",
    "from langchain.chat_models import ChatOpenAI\n",
    "from langchain_experimental.sql.base import SQLDatabaseChain\n",
    "\n",
    "# Your SQL Server connection URI\n",
    "connection_uri = (\n",
    "    \"mssql+pyodbc://@LAPTOP-RES6G37K/adventureworks2019\"\n",
    "    \"?driver=ODBC+Driver+17+for+SQL+Server\"\n",
    "    \"&trusted_connection=yes\"\n",
    ")\n",
    "\n",
    "# Pass multiple schemas to include_schemas\n",
    "db = SQLDatabase.from_uri(\n",
    "    connection_uri,\n",
    "    schema=\"Person\"  # Example multiple schemas\n",
    ")\n",
    "\n",
    "# Set up LLM\n",
    "llm = ChatOpenAI(temperature=0, model=\"gpt-4\")\n",
    "\n",
    "# Create SQLDatabaseChain\n",
    "db_chain = SQLDatabaseChain.from_llm(llm=llm, db=db, verbose=True,return_intermediate_steps=True,)\n"
   ]
  },
  {
   "cell_type": "code",
   "execution_count": 67,
   "id": "07f7d504",
   "metadata": {},
   "outputs": [],
   "source": [
    "from langchain_community.utilities.sql_database import SQLDatabase\n",
    "from sqlalchemy import create_engine, inspect\n",
    "from typing import List, Optional, Dict\n",
    "\n",
    "class SQLDatabaseWithSchemas(SQLDatabase):\n",
    "\n",
    "    @classmethod\n",
    "    def from_uri_with_schemas(\n",
    "        cls,\n",
    "        database_uri: str,\n",
    "        include_schemas: Optional[List[str]] = None,\n",
    "        sample_rows_in_table_info: int = 3,\n",
    "        custom_table_info: Optional[Dict[str, str]] = None,\n",
    "    ) -> \"SQLDatabaseWithSchemas\":\n",
    "        engine = create_engine(database_uri)\n",
    "        inspector = inspect(engine)\n",
    "\n",
    "        if include_schemas is not None:\n",
    "            all_tables = []\n",
    "            for schema in include_schemas:\n",
    "                tables = inspector.get_table_names(schema=schema)\n",
    "                all_tables.extend([f\"{schema}.{table}\" for table in tables])\n",
    "        else:\n",
    "            # fallback to default behavior (just pull everything)\n",
    "            all_tables = inspector.get_table_names()\n",
    "\n",
    "        return cls(\n",
    "            engine=engine,\n",
    "            include_tables=all_tables,\n",
    "            sample_rows_in_table_info=sample_rows_in_table_info,\n",
    "            custom_table_info=custom_table_info,\n",
    "        )\n"
   ]
  },
  {
   "cell_type": "code",
   "execution_count": null,
   "id": "975ccf52",
   "metadata": {},
   "outputs": [],
   "source": []
  },
  {
   "cell_type": "code",
   "execution_count": 69,
   "id": "0be3b3b2",
   "metadata": {},
   "outputs": [
    {
     "ename": "ValueError",
     "evalue": "include_tables {'Sales.SalesPerson', 'Sales.CreditCard', 'Person.PhoneNumberType', 'Sales.Customer', 'Person.Address', 'Sales.SpecialOffer', 'Person.EmailAddress', 'Person.AddressType', 'Sales.Store', 'Sales.SalesOrderDetail', 'Sales.ShoppingCartItem', 'Sales.SalesOrderHeaderSalesReason', 'Person.BusinessEntityContact', 'dbo.AWBuildVersion', 'Sales.SalesTerritoryHistory', 'Person.BusinessEntityAddress', 'Person.CountryRegion', 'Sales.SalesTerritory', 'Person.Person', 'Sales.SalesTaxRate', 'Sales.SpecialOfferProduct', 'Person.Password', 'Person.PersonPhone', 'Sales.CurrencyRate', 'Person.StateProvince', 'Sales.SalesReason', 'Sales.CountryRegionCurrency', 'dbo.DatabaseLog', 'Person.ContactType', 'Sales.Currency', 'Sales.PersonCreditCard', 'dbo.ErrorLog', 'Sales.SalesPersonQuotaHistory', 'Sales.SalesOrderHeader', 'Person.BusinessEntity'} not found in database",
     "output_type": "error",
     "traceback": [
      "\u001b[31m---------------------------------------------------------------------------\u001b[39m",
      "\u001b[31mValueError\u001b[39m                                Traceback (most recent call last)",
      "\u001b[36mCell\u001b[39m\u001b[36m \u001b[39m\u001b[32mIn[69]\u001b[39m\u001b[32m, line 1\u001b[39m\n\u001b[32m----> \u001b[39m\u001b[32m1\u001b[39m db = \u001b[43mSQLDatabaseWithSchemas\u001b[49m\u001b[43m.\u001b[49m\u001b[43mfrom_uri_with_schemas\u001b[49m\u001b[43m(\u001b[49m\n\u001b[32m      2\u001b[39m \u001b[43m    \u001b[49m\u001b[43mdatabase_uri\u001b[49m\u001b[43m=\u001b[49m\u001b[33;43m\"\u001b[39;49m\u001b[33;43mmssql+pyodbc://@LAPTOP-RES6G37K/Adventureworks2019?driver=ODBC+Driver+17+for+SQL+Server&trusted_connection=yes\u001b[39;49m\u001b[33;43m\"\u001b[39;49m\u001b[43m,\u001b[49m\n\u001b[32m      3\u001b[39m \u001b[43m    \u001b[49m\u001b[43minclude_schemas\u001b[49m\u001b[43m=\u001b[49m\u001b[43m[\u001b[49m\u001b[33;43m\"\u001b[39;49m\u001b[33;43mdbo\u001b[39;49m\u001b[33;43m\"\u001b[39;49m\u001b[43m,\u001b[49m\u001b[43m \u001b[49m\u001b[33;43m\"\u001b[39;49m\u001b[33;43mSales\u001b[39;49m\u001b[33;43m\"\u001b[39;49m\u001b[43m,\u001b[49m\u001b[43m \u001b[49m\u001b[33;43m\"\u001b[39;49m\u001b[33;43mPerson\u001b[39;49m\u001b[33;43m\"\u001b[39;49m\u001b[43m]\u001b[49m\n\u001b[32m      4\u001b[39m \u001b[43m)\u001b[49m\n",
      "\u001b[36mCell\u001b[39m\u001b[36m \u001b[39m\u001b[32mIn[67]\u001b[39m\u001b[32m, line 27\u001b[39m, in \u001b[36mSQLDatabaseWithSchemas.from_uri_with_schemas\u001b[39m\u001b[34m(cls, database_uri, include_schemas, sample_rows_in_table_info, custom_table_info)\u001b[39m\n\u001b[32m     23\u001b[39m \u001b[38;5;28;01melse\u001b[39;00m:\n\u001b[32m     24\u001b[39m     \u001b[38;5;66;03m# fallback to default behavior (just pull everything)\u001b[39;00m\n\u001b[32m     25\u001b[39m     all_tables = inspector.get_table_names()\n\u001b[32m---> \u001b[39m\u001b[32m27\u001b[39m \u001b[38;5;28;01mreturn\u001b[39;00m \u001b[38;5;28;43mcls\u001b[39;49m\u001b[43m(\u001b[49m\n\u001b[32m     28\u001b[39m \u001b[43m    \u001b[49m\u001b[43mengine\u001b[49m\u001b[43m=\u001b[49m\u001b[43mengine\u001b[49m\u001b[43m,\u001b[49m\n\u001b[32m     29\u001b[39m \u001b[43m    \u001b[49m\u001b[43minclude_tables\u001b[49m\u001b[43m=\u001b[49m\u001b[43mall_tables\u001b[49m\u001b[43m,\u001b[49m\n\u001b[32m     30\u001b[39m \u001b[43m    \u001b[49m\u001b[43msample_rows_in_table_info\u001b[49m\u001b[43m=\u001b[49m\u001b[43msample_rows_in_table_info\u001b[49m\u001b[43m,\u001b[49m\n\u001b[32m     31\u001b[39m \u001b[43m    \u001b[49m\u001b[43mcustom_table_info\u001b[49m\u001b[43m=\u001b[49m\u001b[43mcustom_table_info\u001b[49m\u001b[43m,\u001b[49m\n\u001b[32m     32\u001b[39m \u001b[43m\u001b[49m\u001b[43m)\u001b[49m\n",
      "\u001b[36mFile \u001b[39m\u001b[32m~\\AppData\\Roaming\\Python\\Python311\\site-packages\\langchain_community\\utilities\\sql_database.py:83\u001b[39m, in \u001b[36mSQLDatabase.__init__\u001b[39m\u001b[34m(self, engine, schema, metadata, ignore_tables, include_tables, sample_rows_in_table_info, indexes_in_table_info, custom_table_info, view_support, max_string_length, lazy_table_reflection)\u001b[39m\n\u001b[32m     81\u001b[39m     missing_tables = \u001b[38;5;28mself\u001b[39m._include_tables - \u001b[38;5;28mself\u001b[39m._all_tables\n\u001b[32m     82\u001b[39m     \u001b[38;5;28;01mif\u001b[39;00m missing_tables:\n\u001b[32m---> \u001b[39m\u001b[32m83\u001b[39m         \u001b[38;5;28;01mraise\u001b[39;00m \u001b[38;5;167;01mValueError\u001b[39;00m(\n\u001b[32m     84\u001b[39m             \u001b[33mf\u001b[39m\u001b[33m\"\u001b[39m\u001b[33minclude_tables \u001b[39m\u001b[38;5;132;01m{\u001b[39;00mmissing_tables\u001b[38;5;132;01m}\u001b[39;00m\u001b[33m not found in database\u001b[39m\u001b[33m\"\u001b[39m\n\u001b[32m     85\u001b[39m         )\n\u001b[32m     86\u001b[39m \u001b[38;5;28mself\u001b[39m._ignore_tables = \u001b[38;5;28mset\u001b[39m(ignore_tables) \u001b[38;5;28;01mif\u001b[39;00m ignore_tables \u001b[38;5;28;01melse\u001b[39;00m \u001b[38;5;28mset\u001b[39m()\n\u001b[32m     87\u001b[39m \u001b[38;5;28;01mif\u001b[39;00m \u001b[38;5;28mself\u001b[39m._ignore_tables:\n",
      "\u001b[31mValueError\u001b[39m: include_tables {'Sales.SalesPerson', 'Sales.CreditCard', 'Person.PhoneNumberType', 'Sales.Customer', 'Person.Address', 'Sales.SpecialOffer', 'Person.EmailAddress', 'Person.AddressType', 'Sales.Store', 'Sales.SalesOrderDetail', 'Sales.ShoppingCartItem', 'Sales.SalesOrderHeaderSalesReason', 'Person.BusinessEntityContact', 'dbo.AWBuildVersion', 'Sales.SalesTerritoryHistory', 'Person.BusinessEntityAddress', 'Person.CountryRegion', 'Sales.SalesTerritory', 'Person.Person', 'Sales.SalesTaxRate', 'Sales.SpecialOfferProduct', 'Person.Password', 'Person.PersonPhone', 'Sales.CurrencyRate', 'Person.StateProvince', 'Sales.SalesReason', 'Sales.CountryRegionCurrency', 'dbo.DatabaseLog', 'Person.ContactType', 'Sales.Currency', 'Sales.PersonCreditCard', 'dbo.ErrorLog', 'Sales.SalesPersonQuotaHistory', 'Sales.SalesOrderHeader', 'Person.BusinessEntity'} not found in database"
     ]
    }
   ],
   "source": [
    "db = SQLDatabaseWithSchemas.from_uri_with_schemas(\n",
    "    database_uri=\"mssql+pyodbc://@LAPTOP-RES6G37K/Adventureworks2019?driver=ODBC+Driver+17+for+SQL+Server&trusted_connection=yes\",\n",
    "    include_schemas=[\"dbo\", \"Sales\", \"Person\"]\n",
    ")\n"
   ]
  },
  {
   "cell_type": "code",
   "execution_count": 72,
   "id": "a9966d0f",
   "metadata": {},
   "outputs": [
    {
     "name": "stderr",
     "output_type": "stream",
     "text": [
      "C:\\Users\\Sreehari\\AppData\\Roaming\\Python\\Python311\\site-packages\\langchain_community\\utilities\\sql_database.py:123: SAWarning: Did not recognize type 'geography' of column 'SpatialLocation'\n",
      "  self._metadata.reflect(\n",
      "C:\\Users\\Sreehari\\AppData\\Local\\Temp\\ipykernel_15128\\132290372.py:20: LangChainDeprecationWarning: LangChain agents will continue to be supported, but it is recommended for new use cases to be built with LangGraph. LangGraph offers a more flexible and full-featured framework for building agents, including support for tool-calling, persistence of state, and human-in-the-loop workflows. For details, refer to the `LangGraph documentation <https://langchain-ai.github.io/langgraph/>`_ as well as guides for `Migrating from AgentExecutor <https://python.langchain.com/docs/how_to/migrate_agent/>`_ and LangGraph's `Pre-built ReAct agent <https://langchain-ai.github.io/langgraph/how-tos/create-react-agent/>`_.\n",
      "  agent_executor = initialize_agent(\n"
     ]
    }
   ],
   "source": [
    "from langchain.chat_models import ChatOpenAI\n",
    "from langchain_community.utilities.sql_database import SQLDatabase\n",
    "from langchain.agents.agent_toolkits import SQLDatabaseToolkit\n",
    "from langchain.agents import initialize_agent, AgentType\n",
    "\n",
    "# 1. Connect to SQL Server (example using Windows Auth)\n",
    "db_uri = (\n",
    "    \"mssql+pyodbc://@LAPTOP-RES6G37K/Adventureworks2019?driver=ODBC+Driver+17+for+SQL+Server&trusted_connection=yes\"\n",
    ")\n",
    "db = SQLDatabase.from_uri(\n",
    "    db_uri,\n",
    "    schema=\"Person\"\n",
    ")\n",
    "\n",
    "# 2. Create the LLM and toolkit\n",
    "llm = ChatOpenAI(temperature=0, model=\"gpt-4\")\n",
    "toolkit = SQLDatabaseToolkit(db=db, llm=llm)\n",
    "\n",
    "# 3. Initialize agent with SQL tools\n",
    "agent_executor = initialize_agent(\n",
    "    tools=toolkit.get_tools(),\n",
    "    llm=llm,\n",
    "    agent=AgentType.OPENAI_FUNCTIONS,  # or AgentType.ZERO_SHOT_REACT_DESCRIPTION\n",
    "    verbose=True\n",
    ")\n"
   ]
  },
  {
   "cell_type": "code",
   "execution_count": 74,
   "id": "e25c0c62",
   "metadata": {},
   "outputs": [
    {
     "name": "stdout",
     "output_type": "stream",
     "text": [
      "\n",
      "\n",
      "\u001b[1m> Entering new AgentExecutor chain...\u001b[0m\n",
      "\u001b[32;1m\u001b[1;3m\n",
      "Invoking: `sql_db_list_tables` with `{}`\n",
      "responded: To answer your question, I need to know the structure of the database. Let's first check the list of tables in the database.\n",
      "\n",
      "\u001b[0m\u001b[38;5;200m\u001b[1;3mAddress, AddressType, BusinessEntity, BusinessEntityAddress, BusinessEntityContact, ContactType, CountryRegion, EmailAddress, Password, Person, PersonPhone, PhoneNumberType, StateProvince\u001b[0m\u001b[32;1m\u001b[1;3m\n",
      "Invoking: `sql_db_schema` with `{'table_names': 'Person, Address, CountryRegion'}`\n",
      "responded: The database contains several tables. To find the number of persons whose home address is in France, we need to look at the 'Person', 'Address', and 'CountryRegion' tables. Let's check the schema of these tables to understand their structure.\n",
      "\n",
      "\u001b[0m\u001b[33;1m\u001b[1;3m\n",
      "CREATE TABLE [Person].[Address] (\n",
      "\t[AddressID] INTEGER NOT NULL IDENTITY(1,1), \n",
      "\t[AddressLine1] NVARCHAR(60) COLLATE SQL_Latin1_General_CP1_CI_AS NOT NULL, \n",
      "\t[AddressLine2] NVARCHAR(60) COLLATE SQL_Latin1_General_CP1_CI_AS NULL, \n",
      "\t[City] NVARCHAR(30) COLLATE SQL_Latin1_General_CP1_CI_AS NOT NULL, \n",
      "\t[StateProvinceID] INTEGER NOT NULL, \n",
      "\t[PostalCode] NVARCHAR(15) COLLATE SQL_Latin1_General_CP1_CI_AS NOT NULL, \n",
      "\trowguid UNIQUEIDENTIFIER NOT NULL DEFAULT (newid()), \n",
      "\t[ModifiedDate] DATETIME NOT NULL DEFAULT (getdate()), \n",
      "\tCONSTRAINT [PK_Address_AddressID] PRIMARY KEY ([AddressID]), \n",
      "\tCONSTRAINT [FK_Address_StateProvince_StateProvinceID] FOREIGN KEY([StateProvinceID]) REFERENCES [Person].[StateProvince] ([StateProvinceID])\n",
      ")\n",
      "\n",
      "/*\n",
      "3 rows from Address table:\n",
      "AddressID\tAddressLine1\tAddressLine2\tCity\tStateProvinceID\tPostalCode\trowguid\tModifiedDate\n",
      "1\t1970 Napa Ct.\tNone\tBothell\t79\t98011\t9aadcb0d-36cf-483f-84d8-585c2d4ec6e9\t2007-12-04 00:00:00\n",
      "2\t9833 Mt. Dias Blv.\tNone\tBothell\t79\t98011\t32a54b9e-e034-4bfb-b573-a71cde60d8c0\t2008-11-30 00:00:00\n",
      "3\t7484 Roundtree Drive\tNone\tBothell\t79\t98011\t4c506923-6d1b-452c-a07c-baa6f5b142a4\t2013-03-07 00:00:00\n",
      "*/\n",
      "\n",
      "\n",
      "CREATE TABLE [Person].[CountryRegion] (\n",
      "\t[CountryRegionCode] NVARCHAR(3) COLLATE SQL_Latin1_General_CP1_CI_AS NOT NULL, \n",
      "\t[Name] NVARCHAR(50) COLLATE SQL_Latin1_General_CP1_CI_AS NOT NULL, \n",
      "\t[ModifiedDate] DATETIME NOT NULL DEFAULT (getdate()), \n",
      "\tCONSTRAINT [PK_CountryRegion_CountryRegionCode] PRIMARY KEY ([CountryRegionCode])\n",
      ")\n",
      "\n",
      "/*\n",
      "3 rows from CountryRegion table:\n",
      "CountryRegionCode\tName\tModifiedDate\n",
      "AD\tAndorra\t2008-04-30 00:00:00\n",
      "AE\tUnited Arab Emirates\t2008-04-30 00:00:00\n",
      "AF\tAfghanistan\t2008-04-30 00:00:00\n",
      "*/\n",
      "\n",
      "\n",
      "CREATE TABLE [Person].[Person] (\n",
      "\t[BusinessEntityID] INTEGER NOT NULL, \n",
      "\t[PersonType] NCHAR(2) COLLATE SQL_Latin1_General_CP1_CI_AS NOT NULL, \n",
      "\t[NameStyle] BIT NOT NULL DEFAULT ((0)), \n",
      "\t[Title] NVARCHAR(8) COLLATE SQL_Latin1_General_CP1_CI_AS NULL, \n",
      "\t[FirstName] NVARCHAR(50) COLLATE SQL_Latin1_General_CP1_CI_AS NOT NULL, \n",
      "\t[MiddleName] NVARCHAR(50) COLLATE SQL_Latin1_General_CP1_CI_AS NULL, \n",
      "\t[LastName] NVARCHAR(50) COLLATE SQL_Latin1_General_CP1_CI_AS NOT NULL, \n",
      "\t[Suffix] NVARCHAR(10) COLLATE SQL_Latin1_General_CP1_CI_AS NULL, \n",
      "\t[EmailPromotion] INTEGER NOT NULL DEFAULT ((0)), \n",
      "\t[AdditionalContactInfo] XML NULL, \n",
      "\t[Demographics] XML NULL, \n",
      "\trowguid UNIQUEIDENTIFIER NOT NULL DEFAULT (newid()), \n",
      "\t[ModifiedDate] DATETIME NOT NULL DEFAULT (getdate()), \n",
      "\tCONSTRAINT [PK_Person_BusinessEntityID] PRIMARY KEY ([BusinessEntityID]), \n",
      "\tCONSTRAINT [FK_Person_BusinessEntity_BusinessEntityID] FOREIGN KEY([BusinessEntityID]) REFERENCES [Person].[BusinessEntity] ([BusinessEntityID])\n",
      ")\n",
      "\n",
      "/*\n",
      "3 rows from Person table:\n",
      "BusinessEntityID\tPersonType\tNameStyle\tTitle\tFirstName\tMiddleName\tLastName\tSuffix\tEmailPromotion\tAdditionalContactInfo\tDemographics\trowguid\tModifiedDate\n",
      "1\tEM\tFalse\tNone\tKen\tJ\tSánchez\tNone\t0\tNone\t<IndividualSurvey xmlns=\"http://schemas.microsoft.com/sqlserver/2004/07/adventure-works/IndividualSu\t92c4279f-1207-48a3-8448-4636514eb7e2\t2009-01-07 00:00:00\n",
      "2\tEM\tFalse\tNone\tTerri\tLee\tDuffy\tNone\t1\tNone\t<IndividualSurvey xmlns=\"http://schemas.microsoft.com/sqlserver/2004/07/adventure-works/IndividualSu\td8763459-8aa8-47cc-aff7-c9079af79033\t2008-01-24 00:00:00\n",
      "3\tEM\tFalse\tNone\tRoberto\tNone\tTamburello\tNone\t0\tNone\t<IndividualSurvey xmlns=\"http://schemas.microsoft.com/sqlserver/2004/07/adventure-works/IndividualSu\te1a2555e-0828-434b-a33b-6f38136a37de\t2007-11-04 00:00:00\n",
      "*/\u001b[0m\u001b[32;1m\u001b[1;3m\n",
      "Invoking: `sql_db_schema` with `{'table_names': 'BusinessEntityAddress'}`\n",
      "responded: Based on the schema of the tables, we can see that the 'Person' table contains information about individuals, the 'Address' table contains address details, and the 'CountryRegion' table contains country information. However, there is no direct link between the 'Person' and 'Address' tables or between the 'Address' and 'CountryRegion' tables.\n",
      "\n",
      "There is another table 'BusinessEntityAddress' which might link 'Person' and 'Address'. Let's check the schema of 'BusinessEntityAddress' table.\n",
      "\n",
      "\u001b[0m\u001b[33;1m\u001b[1;3m\n",
      "CREATE TABLE [Person].[BusinessEntityAddress] (\n",
      "\t[BusinessEntityID] INTEGER NOT NULL, \n",
      "\t[AddressID] INTEGER NOT NULL, \n",
      "\t[AddressTypeID] INTEGER NOT NULL, \n",
      "\trowguid UNIQUEIDENTIFIER NOT NULL DEFAULT (newid()), \n",
      "\t[ModifiedDate] DATETIME NOT NULL DEFAULT (getdate()), \n",
      "\tCONSTRAINT [PK_BusinessEntityAddress_BusinessEntityID_AddressID_AddressTypeID] PRIMARY KEY ([BusinessEntityID], [AddressID], [AddressTypeID]), \n",
      "\tCONSTRAINT [FK_BusinessEntityAddress_Address_AddressID] FOREIGN KEY([AddressID]) REFERENCES [Person].[Address] ([AddressID]), \n",
      "\tCONSTRAINT [FK_BusinessEntityAddress_AddressType_AddressTypeID] FOREIGN KEY([AddressTypeID]) REFERENCES [Person].[AddressType] ([AddressTypeID]), \n",
      "\tCONSTRAINT [FK_BusinessEntityAddress_BusinessEntity_BusinessEntityID] FOREIGN KEY([BusinessEntityID]) REFERENCES [Person].[BusinessEntity] ([BusinessEntityID])\n",
      ")\n",
      "\n",
      "/*\n",
      "3 rows from BusinessEntityAddress table:\n",
      "BusinessEntityID\tAddressID\tAddressTypeID\trowguid\tModifiedDate\n",
      "1\t249\t2\t3a5d0a00-6739-4dfe-a8f7-844cd9dee3df\t2014-09-12 11:15:06.967000\n",
      "2\t293\t2\t84ae7057-edf4-4c51-8b8d-3aeaefbfb4a1\t2014-09-12 11:15:06.967000\n",
      "3\t224\t2\t3c915b31-7c05-4a05-9859-0df663677240\t2014-09-12 11:15:06.967000\n",
      "*/\u001b[0m\u001b[32;1m\u001b[1;3m\n",
      "Invoking: `sql_db_schema` with `{'table_names': 'StateProvince'}`\n",
      "responded: The 'BusinessEntityAddress' table links the 'Person' and 'Address' tables through the 'BusinessEntityID' and 'AddressID' fields respectively. However, we still need to link the 'Address' table to the 'CountryRegion' table. \n",
      "\n",
      "The 'Address' table has a 'StateProvinceID' field which might be linked to a 'StateProvince' table that could contain the country information. Let's check the schema of the 'StateProvince' table.\n",
      "\n",
      "\u001b[0m\u001b[33;1m\u001b[1;3m\n",
      "CREATE TABLE [Person].[StateProvince] (\n",
      "\t[StateProvinceID] INTEGER NOT NULL IDENTITY(1,1), \n",
      "\t[StateProvinceCode] NCHAR(3) COLLATE SQL_Latin1_General_CP1_CI_AS NOT NULL, \n",
      "\t[CountryRegionCode] NVARCHAR(3) COLLATE SQL_Latin1_General_CP1_CI_AS NOT NULL, \n",
      "\t[IsOnlyStateProvinceFlag] BIT NOT NULL DEFAULT ((1)), \n",
      "\t[Name] NVARCHAR(50) COLLATE SQL_Latin1_General_CP1_CI_AS NOT NULL, \n",
      "\t[TerritoryID] INTEGER NOT NULL, \n",
      "\trowguid UNIQUEIDENTIFIER NOT NULL DEFAULT (newid()), \n",
      "\t[ModifiedDate] DATETIME NOT NULL DEFAULT (getdate()), \n",
      "\tCONSTRAINT [PK_StateProvince_StateProvinceID] PRIMARY KEY ([StateProvinceID]), \n",
      "\tCONSTRAINT [FK_StateProvince_CountryRegion_CountryRegionCode] FOREIGN KEY([CountryRegionCode]) REFERENCES [Person].[CountryRegion] ([CountryRegionCode]), \n",
      "\tCONSTRAINT [FK_StateProvince_SalesTerritory_TerritoryID] FOREIGN KEY([TerritoryID]) REFERENCES [Sales].[SalesTerritory] ([TerritoryID])\n",
      ")\n",
      "\n",
      "/*\n",
      "3 rows from StateProvince table:\n",
      "StateProvinceID\tStateProvinceCode\tCountryRegionCode\tIsOnlyStateProvinceFlag\tName\tTerritoryID\trowguid\tModifiedDate\n",
      "1\tAB \tCA\tFalse\tAlberta\t6\t298c2880-ab1c-4982-a5ad-a36eb4ba0d34\t2014-02-08 10:17:21.587000\n",
      "2\tAK \tUS\tFalse\tAlaska\t1\t5b7b8462-a888-4e0b-a3e1-7278f8af107e\t2014-02-08 10:17:21.587000\n",
      "3\tAL \tUS\tFalse\tAlabama\t5\t41b328be-21ae-45d0-841d-6f8dd71ce626\t2014-02-08 10:17:21.587000\n",
      "*/\u001b[0m\u001b[32;1m\u001b[1;3m\n",
      "Invoking: `sql_db_query_checker` with `{'query': \"SELECT COUNT(DISTINCT p.BusinessEntityID) as NumberOfPersons FROM Person p JOIN BusinessEntityAddress bea ON p.BusinessEntityID = bea.BusinessEntityID JOIN Address a ON bea.AddressID = a.AddressID JOIN StateProvince sp ON a.StateProvinceID = sp.StateProvinceID JOIN CountryRegion cr ON sp.CountryRegionCode = cr.CountryRegionCode WHERE cr.Name = 'France'\"}`\n",
      "responded: The 'StateProvince' table links the 'Address' table to the 'CountryRegion' table through the 'StateProvinceID' and 'CountryRegionCode' fields respectively. \n",
      "\n",
      "Now, we can construct a SQL query to find the number of persons whose home address is in France. The query will join the 'Person', 'BusinessEntityAddress', 'Address', 'StateProvince', and 'CountryRegion' tables. Let's write the query.\n",
      "\n",
      "\u001b[0m\u001b[36;1m\u001b[1;3mSELECT COUNT(DISTINCT p.BusinessEntityID) as NumberOfPersons \n",
      "FROM Person p \n",
      "JOIN BusinessEntityAddress bea ON p.BusinessEntityID = bea.BusinessEntityID \n",
      "JOIN Address a ON bea.AddressID = a.AddressID \n",
      "JOIN StateProvince sp ON a.StateProvinceID = sp.StateProvinceID \n",
      "JOIN CountryRegion cr ON sp.CountryRegionCode = cr.CountryRegionCode \n",
      "WHERE cr.Name = 'France'\u001b[0m\u001b[32;1m\u001b[1;3m\n",
      "Invoking: `sql_db_query` with `{'query': \"SELECT COUNT(DISTINCT p.BusinessEntityID) as NumberOfPersons FROM Person p JOIN BusinessEntityAddress bea ON p.BusinessEntityID = bea.BusinessEntityID JOIN Address a ON bea.AddressID = a.AddressID JOIN StateProvince sp ON a.StateProvinceID = sp.StateProvinceID JOIN CountryRegion cr ON sp.CountryRegionCode = cr.CountryRegionCode WHERE cr.Name = 'France'\"}`\n",
      "\n",
      "\n",
      "\u001b[0m\u001b[36;1m\u001b[1;3mError: (pyodbc.ProgrammingError) ('42S02', \"[42S02] [Microsoft][ODBC Driver 17 for SQL Server][SQL Server]Invalid object name 'Person'. (208) (SQLExecDirectW)\")\n",
      "[SQL: SELECT COUNT(DISTINCT p.BusinessEntityID) as NumberOfPersons FROM Person p JOIN BusinessEntityAddress bea ON p.BusinessEntityID = bea.BusinessEntityID JOIN Address a ON bea.AddressID = a.AddressID JOIN StateProvince sp ON a.StateProvinceID = sp.StateProvinceID JOIN CountryRegion cr ON sp.CountryRegionCode = cr.CountryRegionCode WHERE cr.Name = 'France']\n",
      "(Background on this error at: https://sqlalche.me/e/20/f405)\u001b[0m\u001b[32;1m\u001b[1;3m\n",
      "Invoking: `sql_db_query_checker` with `{'query': \"SELECT COUNT(DISTINCT p.BusinessEntityID) as NumberOfPersons FROM Person.Person p JOIN Person.BusinessEntityAddress bea ON p.BusinessEntityID = bea.BusinessEntityID JOIN Person.Address a ON bea.AddressID = a.AddressID JOIN Person.StateProvince sp ON a.StateProvinceID = sp.StateProvinceID JOIN Person.CountryRegion cr ON sp.CountryRegionCode = cr.CountryRegionCode WHERE cr.Name = 'France'\"}`\n",
      "responded: It seems like there is an error with the table names. The table names are prefixed with 'Person.' in the schema. Let's correct the table names and try the query again.\n",
      "\n",
      "\u001b[0m\u001b[36;1m\u001b[1;3mSELECT COUNT(DISTINCT p.BusinessEntityID) as NumberOfPersons \n",
      "FROM Person.Person p \n",
      "JOIN Person.BusinessEntityAddress bea ON p.BusinessEntityID = bea.BusinessEntityID \n",
      "JOIN Person.Address a ON bea.AddressID = a.AddressID \n",
      "JOIN Person.StateProvince sp ON a.StateProvinceID = sp.StateProvinceID \n",
      "JOIN Person.CountryRegion cr ON sp.CountryRegionCode = cr.CountryRegionCode \n",
      "WHERE cr.Name = 'France'\u001b[0m\u001b[32;1m\u001b[1;3m\n",
      "Invoking: `sql_db_query` with `{'query': \"SELECT COUNT(DISTINCT p.BusinessEntityID) as NumberOfPersons FROM Person.Person p JOIN Person.BusinessEntityAddress bea ON p.BusinessEntityID = bea.BusinessEntityID JOIN Person.Address a ON bea.AddressID = a.AddressID JOIN Person.StateProvince sp ON a.StateProvinceID = sp.StateProvinceID JOIN Person.CountryRegion cr ON sp.CountryRegionCode = cr.CountryRegionCode WHERE cr.Name = 'France'\"}`\n",
      "\n",
      "\n",
      "\u001b[0m\u001b[36;1m\u001b[1;3m[(1811,)]\u001b[0m\u001b[32;1m\u001b[1;3mThere are 1,811 persons whose home address is in France.\u001b[0m\n",
      "\n",
      "\u001b[1m> Finished chain.\u001b[0m\n",
      "\n",
      "✅ Final Answer:\n",
      "There are 1,811 persons whose home address is in France.\n"
     ]
    }
   ],
   "source": [
    "question = \"How many persons whose home address is in country France?\"\n",
    "response = agent_executor.run(question)\n",
    "\n",
    "print(\"\\n✅ Final Answer:\")\n",
    "print(response)\n"
   ]
  }
 ],
 "metadata": {
  "kernelspec": {
   "display_name": "Python 3",
   "language": "python",
   "name": "python3"
  },
  "language_info": {
   "codemirror_mode": {
    "name": "ipython",
    "version": 3
   },
   "file_extension": ".py",
   "mimetype": "text/x-python",
   "name": "python",
   "nbconvert_exporter": "python",
   "pygments_lexer": "ipython3",
   "version": "3.11.7"
  }
 },
 "nbformat": 4,
 "nbformat_minor": 5
}
