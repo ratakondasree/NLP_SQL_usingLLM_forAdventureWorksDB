{
 "cells": [
  {
   "cell_type": "code",
   "execution_count": 2,
   "id": "f5b9f6d6",
   "metadata": {},
   "outputs": [],
   "source": [
    "import os"
   ]
  },
  {
   "cell_type": "code",
   "execution_count": 1,
   "id": "13728327",
   "metadata": {},
   "outputs": [],
   "source": [
    "from dotenv import load_dotenv"
   ]
  },
  {
   "cell_type": "code",
   "execution_count": 3,
   "id": "8ffcf45b",
   "metadata": {},
   "outputs": [
    {
     "data": {
      "text/plain": [
       "True"
      ]
     },
     "execution_count": 3,
     "metadata": {},
     "output_type": "execute_result"
    }
   ],
   "source": [
    "load_dotenv()"
   ]
  },
  {
   "cell_type": "code",
   "execution_count": 4,
   "id": "1800bb3c",
   "metadata": {},
   "outputs": [],
   "source": [
    "os.environ[\"OPENAI_API_KEY\"]=os.getenv(\"OPENAI_API_KEY\")"
   ]
  },
  {
   "cell_type": "code",
   "execution_count": 5,
   "id": "9bbaa753",
   "metadata": {},
   "outputs": [
    {
     "name": "stdout",
     "output_type": "stream",
     "text": [
      "✅ SQL Server Login Successful!\n"
     ]
    }
   ],
   "source": [
    "import pyodbc\n",
    "\n",
    "try:\n",
    "    conn = pyodbc.connect(\"DRIVER={ODBC Driver 17 for SQL Server};\"\n",
    "                          \"SERVER=LAPTOP-RES6G37K;\"\n",
    "                          \"DATABASE=adventureworks2019;\"\n",
    "                          \"Trusted_connection=Yes;\")\n",
    "    print(\"✅ SQL Server Login Successful!\")\n",
    "    conn.close()\n",
    "except Exception as e:\n",
    "    print(\"❌ SQL Server Login Failed:\", e)"
   ]
  },
  {
   "cell_type": "code",
   "execution_count": 6,
   "id": "c80160af",
   "metadata": {},
   "outputs": [],
   "source": [
    "from sqlalchemy import create_engine"
   ]
  },
  {
   "cell_type": "code",
   "execution_count": 23,
   "id": "f3378cdc",
   "metadata": {},
   "outputs": [],
   "source": [
    "from sqlalchemy.engine import URL\n",
    "server = \"LAPTOP-RES6G37K\"\n",
    "database = \"adventureworks2019\"\n",
    "\n",
    "\n",
    "connection_url = URL.create(\n",
    "    \"mssql+pyodbc\",\n",
    "    host=\"tcp:\" + server,\n",
    "    port=1433,\n",
    "    database=database,\n",
    "    \n",
    "    # driver is typically required in the query\n",
    "    query={\n",
    "        \"driver\": \"ODBC Driver 17 for SQL Server\",\n",
    "        \"Trusted_Connection\": \"yes\"\n",
    "    },\n",
    ")\n",
    "\n",
    "engine = create_engine(connection_url)\n"
   ]
  },
  {
   "cell_type": "code",
   "execution_count": 24,
   "id": "284e3de5",
   "metadata": {},
   "outputs": [
    {
     "name": "stdout",
     "output_type": "stream",
     "text": [
      "✅ SQLAlchemy connected successfully!\n"
     ]
    }
   ],
   "source": [
    "try:\n",
    "    with engine.connect() as conn:\n",
    "        print(\"✅ SQLAlchemy connected successfully!\")\n",
    "except Exception as e:\n",
    "    print(\"❌ SQLAlchemy connection failed:\", e)"
   ]
  },
  {
   "cell_type": "code",
   "execution_count": 46,
   "id": "abd886b6",
   "metadata": {},
   "outputs": [],
   "source": [
    "from langchain.utilities import SQLDatabase"
   ]
  },
  {
   "cell_type": "code",
   "execution_count": 100,
   "id": "71010309",
   "metadata": {},
   "outputs": [
    {
     "name": "stderr",
     "output_type": "stream",
     "text": [
      "C:\\Users\\Sreehari\\AppData\\Local\\Temp\\ipykernel_31396\\1818128909.py:6: SAWarning: Did not recognize type 'geography' of column 'SpatialLocation'\n",
      "  meta.reflect(bind=engine, schema=schema_name)\n"
     ]
    }
   ],
   "source": [
    "from sqlalchemy import create_engine, MetaData\n",
    "\n",
    "meta = MetaData()\n",
    "# Reflect *all* schemas and tables:\n",
    "for schema_name in [\"Person\"]:\n",
    "    meta.reflect(bind=engine, schema=schema_name)\n",
    "\n"
   ]
  },
  {
   "cell_type": "code",
   "execution_count": 101,
   "id": "8abefa32",
   "metadata": {},
   "outputs": [],
   "source": [
    "meta.create_all(bind=engine)"
   ]
  },
  {
   "cell_type": "code",
   "execution_count": 102,
   "id": "e78f34ac",
   "metadata": {},
   "outputs": [],
   "source": [
    "# Now pass this pre-reflected MetaData to LangChain:\n",
    "dbase = SQLDatabase(engine=engine, metadata=meta)"
   ]
  },
  {
   "cell_type": "code",
   "execution_count": 103,
   "id": "48be8937",
   "metadata": {},
   "outputs": [
    {
     "data": {
      "text/plain": [
       "['AWBuildVersion', 'DatabaseLog', 'ErrorLog']"
      ]
     },
     "execution_count": 103,
     "metadata": {},
     "output_type": "execute_result"
    }
   ],
   "source": [
    "dbase.get_table_names()"
   ]
  },
  {
   "cell_type": "code",
   "execution_count": 104,
   "id": "688ede4e",
   "metadata": {},
   "outputs": [],
   "source": [
    "from langchain.sql_database import SQLDatabase\n",
    "\n",
    "all_tables = list(meta.tables.keys())\n",
    "# e.g. [\"dbo.SomeTable\", \"MyOtherSchema.OtherTable\", ...]\n",
    "\n"
   ]
  },
  {
   "cell_type": "code",
   "execution_count": 105,
   "id": "0ff259c4",
   "metadata": {},
   "outputs": [
    {
     "data": {
      "text/plain": [
       "17"
      ]
     },
     "execution_count": 105,
     "metadata": {},
     "output_type": "execute_result"
    }
   ],
   "source": [
    "len(all_tables)"
   ]
  },
  {
   "cell_type": "code",
   "execution_count": 107,
   "id": "daccf639",
   "metadata": {},
   "outputs": [
    {
     "ename": "ValueError",
     "evalue": "include_tables {'Person.AddressType', 'Person.BusinessEntityContact', 'Sales.SalesTerritory', 'Person.ContactType', 'Person.PhoneNumberType', 'Person.BusinessEntity', 'Person.Address', 'Person.Person', 'Person.PersonPhone', 'Person.BusinessEntityAddress', 'Person.CountryRegion', 'Person.StateProvince', 'Person.EmailAddress', 'Person.Password'} not found in database",
     "output_type": "error",
     "traceback": [
      "\u001b[31m---------------------------------------------------------------------------\u001b[39m",
      "\u001b[31mValueError\u001b[39m                                Traceback (most recent call last)",
      "\u001b[36mCell\u001b[39m\u001b[36m \u001b[39m\u001b[32mIn[107]\u001b[39m\u001b[32m, line 1\u001b[39m\n\u001b[32m----> \u001b[39m\u001b[32m1\u001b[39m db = \u001b[43mSQLDatabase\u001b[49m\u001b[43m(\u001b[49m\n\u001b[32m      2\u001b[39m \u001b[43m    \u001b[49m\u001b[43mengine\u001b[49m\u001b[43m=\u001b[49m\u001b[43mengine\u001b[49m\u001b[43m,\u001b[49m\n\u001b[32m      3\u001b[39m \u001b[43m    \u001b[49m\u001b[43mmetadata\u001b[49m\u001b[43m=\u001b[49m\u001b[43mmeta\u001b[49m\u001b[43m,\u001b[49m\n\u001b[32m      4\u001b[39m \u001b[43m    \u001b[49m\u001b[43minclude_tables\u001b[49m\u001b[43m=\u001b[49m\u001b[43mall_tables\u001b[49m\u001b[43m)\u001b[49m\n",
      "\u001b[36mFile \u001b[39m\u001b[32m~\\AppData\\Roaming\\Python\\Python311\\site-packages\\langchain_community\\utilities\\sql_database.py:83\u001b[39m, in \u001b[36mSQLDatabase.__init__\u001b[39m\u001b[34m(self, engine, schema, metadata, ignore_tables, include_tables, sample_rows_in_table_info, indexes_in_table_info, custom_table_info, view_support, max_string_length, lazy_table_reflection)\u001b[39m\n\u001b[32m     81\u001b[39m     missing_tables = \u001b[38;5;28mself\u001b[39m._include_tables - \u001b[38;5;28mself\u001b[39m._all_tables\n\u001b[32m     82\u001b[39m     \u001b[38;5;28;01mif\u001b[39;00m missing_tables:\n\u001b[32m---> \u001b[39m\u001b[32m83\u001b[39m         \u001b[38;5;28;01mraise\u001b[39;00m \u001b[38;5;167;01mValueError\u001b[39;00m(\n\u001b[32m     84\u001b[39m             \u001b[33mf\u001b[39m\u001b[33m\"\u001b[39m\u001b[33minclude_tables \u001b[39m\u001b[38;5;132;01m{\u001b[39;00mmissing_tables\u001b[38;5;132;01m}\u001b[39;00m\u001b[33m not found in database\u001b[39m\u001b[33m\"\u001b[39m\n\u001b[32m     85\u001b[39m         )\n\u001b[32m     86\u001b[39m \u001b[38;5;28mself\u001b[39m._ignore_tables = \u001b[38;5;28mset\u001b[39m(ignore_tables) \u001b[38;5;28;01mif\u001b[39;00m ignore_tables \u001b[38;5;28;01melse\u001b[39;00m \u001b[38;5;28mset\u001b[39m()\n\u001b[32m     87\u001b[39m \u001b[38;5;28;01mif\u001b[39;00m \u001b[38;5;28mself\u001b[39m._ignore_tables:\n",
      "\u001b[31mValueError\u001b[39m: include_tables {'Person.AddressType', 'Person.BusinessEntityContact', 'Sales.SalesTerritory', 'Person.ContactType', 'Person.PhoneNumberType', 'Person.BusinessEntity', 'Person.Address', 'Person.Person', 'Person.PersonPhone', 'Person.BusinessEntityAddress', 'Person.CountryRegion', 'Person.StateProvince', 'Person.EmailAddress', 'Person.Password'} not found in database"
     ]
    }
   ],
   "source": [
    "db = SQLDatabase(\n",
    "    engine=engine,\n",
    "    metadata=meta,\n",
    "    include_tables=all_tables)\n"
   ]
  },
  {
   "cell_type": "code",
   "execution_count": 71,
   "id": "1f7c1d40",
   "metadata": {},
   "outputs": [
    {
     "name": "stdout",
     "output_type": "stream",
     "text": [
      "Person.Address => Person.Address\n",
      "Person.StateProvince => Person.StateProvince\n",
      "Person.CountryRegion => Person.CountryRegion\n",
      "Sales.SalesTerritory => Sales.SalesTerritory\n",
      "Person.AddressType => Person.AddressType\n",
      "Person.BusinessEntity => Person.BusinessEntity\n",
      "Person.BusinessEntityAddress => Person.BusinessEntityAddress\n",
      "Person.BusinessEntityContact => Person.BusinessEntityContact\n",
      "Person.ContactType => Person.ContactType\n",
      "Person.Person => Person.Person\n",
      "Person.EmailAddress => Person.EmailAddress\n",
      "Person.Password => Person.Password\n",
      "Person.PersonPhone => Person.PersonPhone\n",
      "Person.PhoneNumberType => Person.PhoneNumberType\n",
      "HumanResources.Department => HumanResources.Department\n",
      "HumanResources.Employee => HumanResources.Employee\n",
      "HumanResources.EmployeeDepartmentHistory => HumanResources.EmployeeDepartmentHistory\n",
      "HumanResources.Shift => HumanResources.Shift\n",
      "HumanResources.EmployeePayHistory => HumanResources.EmployeePayHistory\n",
      "HumanResources.JobCandidate => HumanResources.JobCandidate\n",
      "Production.BillOfMaterials => Production.BillOfMaterials\n",
      "Production.Product => Production.Product\n",
      "Production.ProductModel => Production.ProductModel\n",
      "Production.ProductSubcategory => Production.ProductSubcategory\n",
      "Production.ProductCategory => Production.ProductCategory\n",
      "Production.UnitMeasure => Production.UnitMeasure\n",
      "Production.Culture => Production.Culture\n",
      "Production.Document => Production.Document\n",
      "Production.Illustration => Production.Illustration\n",
      "Production.Location => Production.Location\n",
      "Production.ProductCostHistory => Production.ProductCostHistory\n",
      "Production.ProductDescription => Production.ProductDescription\n",
      "Production.ProductDocument => Production.ProductDocument\n",
      "Production.ProductInventory => Production.ProductInventory\n",
      "Production.ProductListPriceHistory => Production.ProductListPriceHistory\n",
      "Production.ProductModelIllustration => Production.ProductModelIllustration\n",
      "Production.ProductModelProductDescriptionCulture => Production.ProductModelProductDescriptionCulture\n",
      "Production.ProductPhoto => Production.ProductPhoto\n",
      "Production.ProductProductPhoto => Production.ProductProductPhoto\n",
      "Production.ProductReview => Production.ProductReview\n",
      "Production.ScrapReason => Production.ScrapReason\n",
      "Production.TransactionHistory => Production.TransactionHistory\n",
      "Production.TransactionHistoryArchive => Production.TransactionHistoryArchive\n",
      "Production.WorkOrder => Production.WorkOrder\n",
      "Production.WorkOrderRouting => Production.WorkOrderRouting\n",
      "Sales.CountryRegionCurrency => Sales.CountryRegionCurrency\n",
      "Sales.Currency => Sales.Currency\n",
      "Sales.CreditCard => Sales.CreditCard\n",
      "Sales.CurrencyRate => Sales.CurrencyRate\n",
      "Sales.Customer => Sales.Customer\n",
      "Sales.Store => Sales.Store\n",
      "Sales.SalesPerson => Sales.SalesPerson\n",
      "Sales.PersonCreditCard => Sales.PersonCreditCard\n",
      "Sales.SalesOrderDetail => Sales.SalesOrderDetail\n",
      "Sales.SalesOrderHeader => Sales.SalesOrderHeader\n",
      "Purchasing.ShipMethod => Purchasing.ShipMethod\n",
      "Sales.SpecialOfferProduct => Sales.SpecialOfferProduct\n",
      "Sales.SpecialOffer => Sales.SpecialOffer\n",
      "Sales.SalesOrderHeaderSalesReason => Sales.SalesOrderHeaderSalesReason\n",
      "Sales.SalesReason => Sales.SalesReason\n",
      "Sales.SalesPersonQuotaHistory => Sales.SalesPersonQuotaHistory\n",
      "Sales.SalesTaxRate => Sales.SalesTaxRate\n",
      "Sales.SalesTerritoryHistory => Sales.SalesTerritoryHistory\n",
      "Sales.ShoppingCartItem => Sales.ShoppingCartItem\n",
      "Purchasing.ProductVendor => Purchasing.ProductVendor\n",
      "Purchasing.Vendor => Purchasing.Vendor\n",
      "Purchasing.PurchaseOrderDetail => Purchasing.PurchaseOrderDetail\n",
      "Purchasing.PurchaseOrderHeader => Purchasing.PurchaseOrderHeader\n",
      "ErrorLog => ErrorLog\n",
      "DatabaseLog => DatabaseLog\n",
      "AWBuildVersion => AWBuildVersion\n"
     ]
    }
   ],
   "source": [
    "for table_name, table_obj in metadata.tables.items():\n",
    "    print(table_name, \"=>\", table_obj)"
   ]
  },
  {
   "cell_type": "code",
   "execution_count": 84,
   "id": "e48b9e81",
   "metadata": {},
   "outputs": [
    {
     "data": {
      "text/plain": [
       "['AWBuildVersion', 'DatabaseLog', 'ErrorLog']"
      ]
     },
     "execution_count": 84,
     "metadata": {},
     "output_type": "execute_result"
    }
   ],
   "source": [
    "dbase.get_table_names()"
   ]
  },
  {
   "cell_type": "code",
   "execution_count": 16,
   "id": "610bf038",
   "metadata": {},
   "outputs": [],
   "source": [
    "from langchain_openai import ChatOpenAI"
   ]
  },
  {
   "cell_type": "code",
   "execution_count": 17,
   "id": "fad0851c",
   "metadata": {},
   "outputs": [],
   "source": [
    "import os\n",
    "from langchain_openai import OpenAI\n",
    "from langchain_experimental.sql import SQLDatabaseChain\n",
    "from langchain.utilities import SQLDatabase\n",
    "from sqlalchemy import create_engine"
   ]
  },
  {
   "cell_type": "code",
   "execution_count": 18,
   "id": "1bfdf90d",
   "metadata": {},
   "outputs": [],
   "source": [
    "# Create SQLDatabase instance\n",
    "db = SQLDatabase(engine)"
   ]
  },
  {
   "cell_type": "code",
   "execution_count": null,
   "id": "aaf54c5e",
   "metadata": {},
   "outputs": [
    {
     "name": "stdout",
     "output_type": "stream",
     "text": [
      "{'ErrorLog', 'DatabaseLog', 'AWBuildVersion'}\n"
     ]
    }
   ],
   "source": [
    "print(db)"
   ]
  },
  {
   "cell_type": "code",
   "execution_count": 114,
   "id": "991c656e",
   "metadata": {},
   "outputs": [
    {
     "name": "stderr",
     "output_type": "stream",
     "text": [
      "C:\\Users\\Sreehari\\AppData\\Local\\Temp\\ipykernel_31396\\2538543894.py:25: SAWarning: Did not recognize type 'geography' of column 'SpatialLocation'\n",
      "  metadata.reflect(bind=engine, schema=\"Person\")\n"
     ]
    },
    {
     "name": "stdout",
     "output_type": "stream",
     "text": [
      "Reflected tables: dict_keys(['dbo.AWBuildVersion', 'dbo.DatabaseLog', 'dbo.ErrorLog', 'Person.Address', 'Person.StateProvince', 'Person.CountryRegion', 'Sales.SalesTerritory', 'Person.AddressType', 'Person.BusinessEntity', 'Person.BusinessEntityAddress', 'Person.BusinessEntityContact', 'Person.ContactType', 'Person.Person', 'Person.EmailAddress', 'Person.Password', 'Person.PersonPhone', 'Person.PhoneNumberType'])\n"
     ]
    }
   ],
   "source": [
    "from sqlalchemy import create_engine, MetaData,URL\n",
    "from langchain.sql_database import SQLDatabase\n",
    "server = \"LAPTOP-RES6G37K\"\n",
    "database = \"adventureworks2019\"\n",
    "connection_url = URL.create(\n",
    "    \"mssql+pyodbc\",\n",
    "    host=\"tcp:\" + server,\n",
    "    port=1433,\n",
    "    database=database,\n",
    "    \n",
    "    # driver is typically required in the query\n",
    "    query={\n",
    "        \"driver\": \"ODBC Driver 17 for SQL Server\",\n",
    "        \"Trusted_Connection\": \"yes\"\n",
    "    },\n",
    ")\n",
    "engine = create_engine(connection_url)\n",
    "# Create a fresh MetaData object\n",
    "metadata = MetaData()\n",
    "\n",
    "# Reflect the default (dbo) schema\n",
    "metadata.reflect(bind=engine, schema=\"dbo\")\n",
    "\n",
    "# Reflect the other schemas you need\n",
    "metadata.reflect(bind=engine, schema=\"Person\")\n",
    "\n",
    "\n",
    "# Now metadata.tables should include tables from all reflected schemas\n",
    "print(\"Reflected tables:\", metadata.tables.keys())\n",
    "# e.g. dict_keys(['dbo.Customers', 'MyOtherSchema.Orders', 'Sales.Invoices', ...])\n",
    "\n",
    "\n"
   ]
  },
  {
   "cell_type": "code",
   "execution_count": 110,
   "id": "72292879",
   "metadata": {},
   "outputs": [
    {
     "name": "stdout",
     "output_type": "stream",
     "text": [
      "Tables recognized by LangChain: ['AWBuildVersion', 'DatabaseLog', 'ErrorLog']\n"
     ]
    }
   ],
   "source": [
    "from sqlalchemy import Table, Column, Integer, String, MetaData\n",
    "\n",
    "metadata = MetaData()\n",
    "\n",
    "orders_table = Table(\n",
    "    \"Orders\",\n",
    "    metadata,\n",
    "    Column(\"id\", Integer, primary_key=True),\n",
    "    Column(\"description\", String),\n",
    "    schema=\"Sales\"   # <--- specify the schema explicitly\n",
    ")\n",
    "\n",
    "metadata.create_all(bind=engine)\n",
    "\n",
    "db = SQLDatabase(engine=engine, metadata=metadata)\n",
    "print(\"Tables recognized by LangChain:\", db.get_table_names())\n"
   ]
  },
  {
   "cell_type": "code",
   "execution_count": 117,
   "id": "3c0be2db",
   "metadata": {},
   "outputs": [
    {
     "ename": "ValueError",
     "evalue": "include_tables {'Person.BusinessEntity'} not found in database",
     "output_type": "error",
     "traceback": [
      "\u001b[31m---------------------------------------------------------------------------\u001b[39m",
      "\u001b[31mValueError\u001b[39m                                Traceback (most recent call last)",
      "\u001b[36mCell\u001b[39m\u001b[36m \u001b[39m\u001b[32mIn[117]\u001b[39m\u001b[32m, line 1\u001b[39m\n\u001b[32m----> \u001b[39m\u001b[32m1\u001b[39m db = \u001b[43mSQLDatabase\u001b[49m\u001b[43m(\u001b[49m\n\u001b[32m      2\u001b[39m \u001b[43m    \u001b[49m\u001b[43mengine\u001b[49m\u001b[43m=\u001b[49m\u001b[43mengine\u001b[49m\u001b[43m,\u001b[49m\n\u001b[32m      3\u001b[39m \u001b[43m    \u001b[49m\u001b[43mmetadata\u001b[49m\u001b[43m=\u001b[49m\u001b[43mmetadata\u001b[49m\u001b[43m,\u001b[49m\n\u001b[32m      4\u001b[39m \u001b[43m    \u001b[49m\u001b[43minclude_tables\u001b[49m\u001b[43m=\u001b[49m\u001b[43m[\u001b[49m\u001b[33;43m\"\u001b[39;49m\u001b[33;43mPerson.BusinessEntity\u001b[39;49m\u001b[33;43m\"\u001b[39;49m\u001b[43m]\u001b[49m\n\u001b[32m      5\u001b[39m \u001b[43m)\u001b[49m\n",
      "\u001b[36mFile \u001b[39m\u001b[32m~\\AppData\\Roaming\\Python\\Python311\\site-packages\\langchain_community\\utilities\\sql_database.py:83\u001b[39m, in \u001b[36mSQLDatabase.__init__\u001b[39m\u001b[34m(self, engine, schema, metadata, ignore_tables, include_tables, sample_rows_in_table_info, indexes_in_table_info, custom_table_info, view_support, max_string_length, lazy_table_reflection)\u001b[39m\n\u001b[32m     81\u001b[39m     missing_tables = \u001b[38;5;28mself\u001b[39m._include_tables - \u001b[38;5;28mself\u001b[39m._all_tables\n\u001b[32m     82\u001b[39m     \u001b[38;5;28;01mif\u001b[39;00m missing_tables:\n\u001b[32m---> \u001b[39m\u001b[32m83\u001b[39m         \u001b[38;5;28;01mraise\u001b[39;00m \u001b[38;5;167;01mValueError\u001b[39;00m(\n\u001b[32m     84\u001b[39m             \u001b[33mf\u001b[39m\u001b[33m\"\u001b[39m\u001b[33minclude_tables \u001b[39m\u001b[38;5;132;01m{\u001b[39;00mmissing_tables\u001b[38;5;132;01m}\u001b[39;00m\u001b[33m not found in database\u001b[39m\u001b[33m\"\u001b[39m\n\u001b[32m     85\u001b[39m         )\n\u001b[32m     86\u001b[39m \u001b[38;5;28mself\u001b[39m._ignore_tables = \u001b[38;5;28mset\u001b[39m(ignore_tables) \u001b[38;5;28;01mif\u001b[39;00m ignore_tables \u001b[38;5;28;01melse\u001b[39;00m \u001b[38;5;28mset\u001b[39m()\n\u001b[32m     87\u001b[39m \u001b[38;5;28;01mif\u001b[39;00m \u001b[38;5;28mself\u001b[39m._ignore_tables:\n",
      "\u001b[31mValueError\u001b[39m: include_tables {'Person.BusinessEntity'} not found in database"
     ]
    }
   ],
   "source": [
    "db = SQLDatabase(\n",
    "    engine=engine,\n",
    "    metadata=metadata,\n",
    "    include_tables=[\"Person.BusinessEntity\"]\n",
    ")"
   ]
  },
  {
   "cell_type": "code",
   "execution_count": 115,
   "id": "7190bd87",
   "metadata": {},
   "outputs": [
    {
     "data": {
      "text/plain": [
       "dict_keys(['dbo.AWBuildVersion', 'dbo.DatabaseLog', 'dbo.ErrorLog', 'Person.Address', 'Person.StateProvince', 'Person.CountryRegion', 'Sales.SalesTerritory', 'Person.AddressType', 'Person.BusinessEntity', 'Person.BusinessEntityAddress', 'Person.BusinessEntityContact', 'Person.ContactType', 'Person.Person', 'Person.EmailAddress', 'Person.Password', 'Person.PersonPhone', 'Person.PhoneNumberType'])"
      ]
     },
     "execution_count": 115,
     "metadata": {},
     "output_type": "execute_result"
    }
   ],
   "source": [
    "metadata.tables.keys()"
   ]
  },
  {
   "cell_type": "code",
   "execution_count": 118,
   "id": "9e3ffc74",
   "metadata": {},
   "outputs": [
    {
     "name": "stdout",
     "output_type": "stream",
     "text": [
      "All tables reflected in metadata:\n",
      "'dbo.AWBuildVersion'\n",
      "'dbo.DatabaseLog'\n",
      "'dbo.ErrorLog'\n",
      "'Person.Address'\n",
      "'Person.StateProvince'\n",
      "'Person.CountryRegion'\n",
      "'Sales.SalesTerritory'\n",
      "'Person.AddressType'\n",
      "'Person.BusinessEntity'\n",
      "'Person.BusinessEntityAddress'\n",
      "'Person.BusinessEntityContact'\n",
      "'Person.ContactType'\n",
      "'Person.Person'\n",
      "'Person.EmailAddress'\n",
      "'Person.Password'\n",
      "'Person.PersonPhone'\n",
      "'Person.PhoneNumberType'\n"
     ]
    }
   ],
   "source": [
    "print(\"All tables reflected in metadata:\")\n",
    "for t in metadata.tables:\n",
    "    print(repr(t))"
   ]
  },
  {
   "cell_type": "code",
   "execution_count": 119,
   "id": "be119a5c",
   "metadata": {},
   "outputs": [
    {
     "name": "stdout",
     "output_type": "stream",
     "text": [
      "Tables in metadata after reflection: ['dbo.AWBuildVersion', 'dbo.DatabaseLog', 'dbo.ErrorLog', 'Person.Address', 'Person.StateProvince', 'Person.CountryRegion', 'Sales.SalesTerritory', 'Person.AddressType', 'Person.BusinessEntity', 'Person.BusinessEntityAddress', 'Person.BusinessEntityContact', 'Person.ContactType', 'Person.Person', 'Person.EmailAddress', 'Person.Password', 'Person.PersonPhone', 'Person.PhoneNumberType']\n"
     ]
    }
   ],
   "source": [
    "print(\"Tables in metadata after reflection:\", list(metadata.tables.keys()))"
   ]
  },
  {
   "cell_type": "code",
   "execution_count": 121,
   "id": "20da1849",
   "metadata": {},
   "outputs": [
    {
     "ename": "ValueError",
     "evalue": "include_tables {'Person.AddressType', 'Person.BusinessEntityContact', 'Sales.SalesTerritory', 'dbo.AWBuildVersion', 'Person.ContactType', 'Person.PhoneNumberType', 'Person.BusinessEntity', 'Person.Address', 'Person.Person', 'Person.PersonPhone', 'Person.BusinessEntityAddress', 'dbo.DatabaseLog', 'Person.CountryRegion', 'Person.StateProvince', 'Person.EmailAddress', 'dbo.ErrorLog', 'Person.Password'} not found in database",
     "output_type": "error",
     "traceback": [
      "\u001b[31m---------------------------------------------------------------------------\u001b[39m",
      "\u001b[31mValueError\u001b[39m                                Traceback (most recent call last)",
      "\u001b[36mCell\u001b[39m\u001b[36m \u001b[39m\u001b[32mIn[121]\u001b[39m\u001b[32m, line 5\u001b[39m\n\u001b[32m      1\u001b[39m \u001b[38;5;28;01mfrom\u001b[39;00m\u001b[38;5;250m \u001b[39m\u001b[34;01mlangchain\u001b[39;00m\u001b[34;01m.\u001b[39;00m\u001b[34;01msql_database\u001b[39;00m\u001b[38;5;250m \u001b[39m\u001b[38;5;28;01mimport\u001b[39;00m SQLDatabase\n\u001b[32m      3\u001b[39m all_tables = \u001b[38;5;28mlist\u001b[39m(metadata.tables.keys())  \u001b[38;5;66;03m# Should now include 'Person.BusinessEntity'\u001b[39;00m\n\u001b[32m----> \u001b[39m\u001b[32m5\u001b[39m db = \u001b[43mSQLDatabase\u001b[49m\u001b[43m(\u001b[49m\n\u001b[32m      6\u001b[39m \u001b[43m    \u001b[49m\u001b[43mengine\u001b[49m\u001b[43m=\u001b[49m\u001b[43mengine\u001b[49m\u001b[43m,\u001b[49m\n\u001b[32m      7\u001b[39m \u001b[43m    \u001b[49m\u001b[43mmetadata\u001b[49m\u001b[43m=\u001b[49m\u001b[43mmetadata\u001b[49m\u001b[43m,\u001b[49m\n\u001b[32m      8\u001b[39m \u001b[43m    \u001b[49m\u001b[43minclude_tables\u001b[49m\u001b[43m=\u001b[49m\u001b[38;5;28;43mlist\u001b[39;49m\u001b[43m(\u001b[49m\u001b[43mmetadata\u001b[49m\u001b[43m.\u001b[49m\u001b[43mtables\u001b[49m\u001b[43m.\u001b[49m\u001b[43mkeys\u001b[49m\u001b[43m(\u001b[49m\u001b[43m)\u001b[49m\u001b[43m)\u001b[49m\u001b[43m  \u001b[49m\u001b[38;5;66;43;03m# Must match exactly\u001b[39;49;00m\n\u001b[32m      9\u001b[39m \u001b[43m)\u001b[49m\n",
      "\u001b[36mFile \u001b[39m\u001b[32m~\\AppData\\Roaming\\Python\\Python311\\site-packages\\langchain_community\\utilities\\sql_database.py:83\u001b[39m, in \u001b[36mSQLDatabase.__init__\u001b[39m\u001b[34m(self, engine, schema, metadata, ignore_tables, include_tables, sample_rows_in_table_info, indexes_in_table_info, custom_table_info, view_support, max_string_length, lazy_table_reflection)\u001b[39m\n\u001b[32m     81\u001b[39m     missing_tables = \u001b[38;5;28mself\u001b[39m._include_tables - \u001b[38;5;28mself\u001b[39m._all_tables\n\u001b[32m     82\u001b[39m     \u001b[38;5;28;01mif\u001b[39;00m missing_tables:\n\u001b[32m---> \u001b[39m\u001b[32m83\u001b[39m         \u001b[38;5;28;01mraise\u001b[39;00m \u001b[38;5;167;01mValueError\u001b[39;00m(\n\u001b[32m     84\u001b[39m             \u001b[33mf\u001b[39m\u001b[33m\"\u001b[39m\u001b[33minclude_tables \u001b[39m\u001b[38;5;132;01m{\u001b[39;00mmissing_tables\u001b[38;5;132;01m}\u001b[39;00m\u001b[33m not found in database\u001b[39m\u001b[33m\"\u001b[39m\n\u001b[32m     85\u001b[39m         )\n\u001b[32m     86\u001b[39m \u001b[38;5;28mself\u001b[39m._ignore_tables = \u001b[38;5;28mset\u001b[39m(ignore_tables) \u001b[38;5;28;01mif\u001b[39;00m ignore_tables \u001b[38;5;28;01melse\u001b[39;00m \u001b[38;5;28mset\u001b[39m()\n\u001b[32m     87\u001b[39m \u001b[38;5;28;01mif\u001b[39;00m \u001b[38;5;28mself\u001b[39m._ignore_tables:\n",
      "\u001b[31mValueError\u001b[39m: include_tables {'Person.AddressType', 'Person.BusinessEntityContact', 'Sales.SalesTerritory', 'dbo.AWBuildVersion', 'Person.ContactType', 'Person.PhoneNumberType', 'Person.BusinessEntity', 'Person.Address', 'Person.Person', 'Person.PersonPhone', 'Person.BusinessEntityAddress', 'dbo.DatabaseLog', 'Person.CountryRegion', 'Person.StateProvince', 'Person.EmailAddress', 'dbo.ErrorLog', 'Person.Password'} not found in database"
     ]
    }
   ],
   "source": [
    "from langchain.sql_database import SQLDatabase\n",
    "\n",
    "all_tables = list(metadata.tables.keys())  # Should now include 'Person.BusinessEntity'\n",
    "\n",
    "db = SQLDatabase(\n",
    "    engine=engine,\n",
    "    metadata=metadata,\n",
    "    include_tables=list(metadata.tables.keys())  # Must match exactly\n",
    ")"
   ]
  },
  {
   "cell_type": "code",
   "execution_count": 122,
   "id": "9d8bd963",
   "metadata": {},
   "outputs": [
    {
     "name": "stderr",
     "output_type": "stream",
     "text": [
      "C:\\Users\\Sreehari\\AppData\\Local\\Temp\\ipykernel_31396\\1546482088.py:6: SAWarning: Did not recognize type 'geography' of column 'SpatialLocation'\n",
      "  metadata.reflect(bind=engine, schema=schema_name)\n",
      "C:\\Users\\Sreehari\\AppData\\Local\\Temp\\ipykernel_31396\\1546482088.py:6: SAWarning: Did not recognize type 'hierarchyid' of column 'OrganizationNode'\n",
      "  metadata.reflect(bind=engine, schema=schema_name)\n"
     ]
    },
    {
     "name": "stdout",
     "output_type": "stream",
     "text": [
      "SQLAlchemy sees tables: ['dbo.AWBuildVersion', 'dbo.DatabaseLog', 'dbo.ErrorLog', 'Person.Address', 'Person.StateProvince', 'Person.CountryRegion', 'Sales.SalesTerritory', 'Person.AddressType', 'Person.BusinessEntity', 'Person.BusinessEntityAddress', 'Person.BusinessEntityContact', 'Person.ContactType', 'Person.Person', 'Person.EmailAddress', 'Person.Password', 'Person.PersonPhone', 'Person.PhoneNumberType', 'Sales.CountryRegionCurrency', 'Sales.Currency', 'Sales.CreditCard', 'Sales.CurrencyRate', 'Sales.Customer', 'Sales.Store', 'Sales.SalesPerson', 'HumanResources.Employee', 'Sales.PersonCreditCard', 'Sales.SalesOrderDetail', 'Sales.SalesOrderHeader', 'Purchasing.ShipMethod', 'Sales.SpecialOfferProduct', 'Production.Product', 'Production.ProductModel', 'Production.ProductSubcategory', 'Production.ProductCategory', 'Production.UnitMeasure', 'Sales.SpecialOffer', 'Sales.SalesOrderHeaderSalesReason', 'Sales.SalesReason', 'Sales.SalesPersonQuotaHistory', 'Sales.SalesTaxRate', 'Sales.SalesTerritoryHistory', 'Sales.ShoppingCartItem']\n"
     ]
    }
   ],
   "source": [
    "# Create metadata\n",
    "metadata = MetaData()\n",
    "\n",
    "# Reflect each schema you need\n",
    "for schema_name in [\"dbo\", \"Person\", \"Sales\"]:\n",
    "    metadata.reflect(bind=engine, schema=schema_name)\n",
    "\n",
    "# Inspect what was reflected\n",
    "print(\"SQLAlchemy sees tables:\", list(metadata.tables.keys()))"
   ]
  },
  {
   "cell_type": "code",
   "execution_count": 123,
   "id": "42853e56",
   "metadata": {},
   "outputs": [
    {
     "name": "stdout",
     "output_type": "stream",
     "text": [
      "LangChain sees: ['AWBuildVersion', 'DatabaseLog', 'ErrorLog']\n"
     ]
    }
   ],
   "source": [
    "from langchain.sql_database import SQLDatabase\n",
    "\n",
    "db = SQLDatabase(\n",
    "    engine=engine,\n",
    "    metadata=metadata  # You are bypassing LangChain's internal re-reflection\n",
    ")\n",
    "\n",
    "# Confirm\n",
    "print(\"LangChain sees:\", db.get_table_names())\n"
   ]
  },
  {
   "cell_type": "code",
   "execution_count": 124,
   "id": "8ca5345a",
   "metadata": {},
   "outputs": [
    {
     "name": "stdout",
     "output_type": "stream",
     "text": [
      "LangChain _all_tables: {'ErrorLog', 'DatabaseLog', 'AWBuildVersion'}\n"
     ]
    }
   ],
   "source": [
    "print(\"LangChain _all_tables:\", db._all_tables)"
   ]
  },
  {
   "cell_type": "code",
   "execution_count": 125,
   "id": "0b6f0f81",
   "metadata": {},
   "outputs": [
    {
     "name": "stdout",
     "output_type": "stream",
     "text": [
      "Metadata tables: dict_keys(['dbo.AWBuildVersion', 'dbo.DatabaseLog', 'dbo.ErrorLog', 'Person.Address', 'Person.StateProvince', 'Person.CountryRegion', 'Sales.SalesTerritory', 'Person.AddressType', 'Person.BusinessEntity', 'Person.BusinessEntityAddress', 'Person.BusinessEntityContact', 'Person.ContactType', 'Person.Person', 'Person.EmailAddress', 'Person.Password', 'Person.PersonPhone', 'Person.PhoneNumberType', 'Sales.CountryRegionCurrency', 'Sales.Currency', 'Sales.CreditCard', 'Sales.CurrencyRate', 'Sales.Customer', 'Sales.Store', 'Sales.SalesPerson', 'HumanResources.Employee', 'Sales.PersonCreditCard', 'Sales.SalesOrderDetail', 'Sales.SalesOrderHeader', 'Purchasing.ShipMethod', 'Sales.SpecialOfferProduct', 'Production.Product', 'Production.ProductModel', 'Production.ProductSubcategory', 'Production.ProductCategory', 'Production.UnitMeasure', 'Sales.SpecialOffer', 'Sales.SalesOrderHeaderSalesReason', 'Sales.SalesReason', 'Sales.SalesPersonQuotaHistory', 'Sales.SalesTaxRate', 'Sales.SalesTerritoryHistory', 'Sales.ShoppingCartItem', 'ErrorLog', 'DatabaseLog', 'AWBuildVersion'])\n"
     ]
    }
   ],
   "source": [
    "print(\"Metadata tables:\", metadata.tables.keys())"
   ]
  },
  {
   "cell_type": "code",
   "execution_count": 126,
   "id": "eff497a7",
   "metadata": {},
   "outputs": [
    {
     "ename": "ObjectNotExecutableError",
     "evalue": "Not an executable object: 'SELECT TOP 5 * FROM Person.BusinessEntity'",
     "output_type": "error",
     "traceback": [
      "\u001b[31m---------------------------------------------------------------------------\u001b[39m",
      "\u001b[31mAttributeError\u001b[39m                            Traceback (most recent call last)",
      "\u001b[36mFile \u001b[39m\u001b[32m~\\AppData\\Roaming\\Python\\Python311\\site-packages\\sqlalchemy\\engine\\base.py:1412\u001b[39m, in \u001b[36mConnection.execute\u001b[39m\u001b[34m(self, statement, parameters, execution_options)\u001b[39m\n\u001b[32m   1411\u001b[39m \u001b[38;5;28;01mtry\u001b[39;00m:\n\u001b[32m-> \u001b[39m\u001b[32m1412\u001b[39m     meth = \u001b[43mstatement\u001b[49m\u001b[43m.\u001b[49m\u001b[43m_execute_on_connection\u001b[49m\n\u001b[32m   1413\u001b[39m \u001b[38;5;28;01mexcept\u001b[39;00m \u001b[38;5;167;01mAttributeError\u001b[39;00m \u001b[38;5;28;01mas\u001b[39;00m err:\n",
      "\u001b[31mAttributeError\u001b[39m: 'str' object has no attribute '_execute_on_connection'",
      "\nThe above exception was the direct cause of the following exception:\n",
      "\u001b[31mObjectNotExecutableError\u001b[39m                  Traceback (most recent call last)",
      "\u001b[36mCell\u001b[39m\u001b[36m \u001b[39m\u001b[32mIn[126]\u001b[39m\u001b[32m, line 2\u001b[39m\n\u001b[32m      1\u001b[39m \u001b[38;5;28;01mwith\u001b[39;00m engine.connect() \u001b[38;5;28;01mas\u001b[39;00m conn:\n\u001b[32m----> \u001b[39m\u001b[32m2\u001b[39m     result = \u001b[43mconn\u001b[49m\u001b[43m.\u001b[49m\u001b[43mexecute\u001b[49m\u001b[43m(\u001b[49m\u001b[33;43m\"\u001b[39;49m\u001b[33;43mSELECT TOP 5 * FROM Person.BusinessEntity\u001b[39;49m\u001b[33;43m\"\u001b[39;49m\u001b[43m)\u001b[49m\n\u001b[32m      3\u001b[39m     \u001b[38;5;28;01mfor\u001b[39;00m row \u001b[38;5;129;01min\u001b[39;00m result:\n\u001b[32m      4\u001b[39m         \u001b[38;5;28mprint\u001b[39m(row)\n",
      "\u001b[36mFile \u001b[39m\u001b[32m~\\AppData\\Roaming\\Python\\Python311\\site-packages\\sqlalchemy\\engine\\base.py:1414\u001b[39m, in \u001b[36mConnection.execute\u001b[39m\u001b[34m(self, statement, parameters, execution_options)\u001b[39m\n\u001b[32m   1412\u001b[39m     meth = statement._execute_on_connection\n\u001b[32m   1413\u001b[39m \u001b[38;5;28;01mexcept\u001b[39;00m \u001b[38;5;167;01mAttributeError\u001b[39;00m \u001b[38;5;28;01mas\u001b[39;00m err:\n\u001b[32m-> \u001b[39m\u001b[32m1414\u001b[39m     \u001b[38;5;28;01mraise\u001b[39;00m exc.ObjectNotExecutableError(statement) \u001b[38;5;28;01mfrom\u001b[39;00m\u001b[38;5;250m \u001b[39m\u001b[34;01merr\u001b[39;00m\n\u001b[32m   1415\u001b[39m \u001b[38;5;28;01melse\u001b[39;00m:\n\u001b[32m   1416\u001b[39m     \u001b[38;5;28;01mreturn\u001b[39;00m meth(\n\u001b[32m   1417\u001b[39m         \u001b[38;5;28mself\u001b[39m,\n\u001b[32m   1418\u001b[39m         distilled_parameters,\n\u001b[32m   1419\u001b[39m         execution_options \u001b[38;5;129;01mor\u001b[39;00m NO_OPTIONS,\n\u001b[32m   1420\u001b[39m     )\n",
      "\u001b[31mObjectNotExecutableError\u001b[39m: Not an executable object: 'SELECT TOP 5 * FROM Person.BusinessEntity'"
     ]
    }
   ],
   "source": [
    "with engine.connect() as conn:\n",
    "    result = conn.execute(\"SELECT TOP 5 * FROM Person.BusinessEntity\")\n",
    "    for row in result:\n",
    "        print(row)"
   ]
  },
  {
   "cell_type": "code",
   "execution_count": 127,
   "id": "a928a100",
   "metadata": {},
   "outputs": [
    {
     "name": "stdout",
     "output_type": "stream",
     "text": [
      "(1, '0C7D8F81-D7B1-4CF0-9C0A-4CD8B6B50087', datetime.datetime(2017, 12, 13, 13, 20, 24, 150000))\n",
      "(2, '6648747F-7843-4002-B317-65389684C398', datetime.datetime(2017, 12, 13, 13, 20, 24, 430000))\n",
      "(3, '568204DA-93D7-42F4-8A7A-4446A144277D', datetime.datetime(2017, 12, 13, 13, 20, 24, 540000))\n",
      "(4, '0EFF57B9-4F4F-41A6-8867-658C199A5FC0', datetime.datetime(2017, 12, 13, 13, 20, 24, 570000))\n",
      "(5, 'B82F88D1-FF79-4FD9-8C54-9D24C140F647', datetime.datetime(2017, 12, 13, 13, 20, 24, 633000))\n"
     ]
    }
   ],
   "source": [
    "from sqlalchemy import text\n",
    "\n",
    "with engine.connect() as conn:\n",
    "    result = conn.execute(text(\"SELECT TOP 5 * FROM Person.BusinessEntity\"))\n",
    "    for row in result:\n",
    "        print(row)"
   ]
  },
  {
   "cell_type": "code",
   "execution_count": 128,
   "id": "1e3fc234",
   "metadata": {},
   "outputs": [
    {
     "name": "stdout",
     "output_type": "stream",
     "text": [
      "Patched LangChain sees: ['AWBuildVersion', 'DatabaseLog', 'ErrorLog']\n"
     ]
    }
   ],
   "source": [
    "from langchain.sql_database import SQLDatabase\n",
    "\n",
    "class PatchedSQLDatabase(SQLDatabase):\n",
    "    def _validate_table_names(self):\n",
    "        # Disable LangChain's strict table filtering logic\n",
    "        return\n",
    "\n",
    "db = PatchedSQLDatabase(engine=engine, metadata=metadata)\n",
    "print(\"Patched LangChain sees:\", db.get_table_names())\n"
   ]
  },
  {
   "cell_type": "code",
   "execution_count": 129,
   "id": "cfcd0346",
   "metadata": {},
   "outputs": [
    {
     "ename": "ValueError",
     "evalue": "include_tables {'Person.AddressType', 'Sales.SpecialOfferProduct', 'Person.ContactType', 'Sales.CreditCard', 'Sales.SalesPerson', 'Sales.SalesTerritoryHistory', 'Person.Address', 'Sales.SalesOrderHeaderSalesReason', 'Person.Person', 'Person.PersonPhone', 'Person.BusinessEntityAddress', 'Sales.CurrencyRate', 'Sales.SalesOrderDetail', 'Person.CountryRegion', 'Person.StateProvince', 'HumanResources.Employee', 'Person.EmailAddress', 'Sales.SalesOrderHeader', 'Production.UnitMeasure', 'Person.Password', 'Sales.ShoppingCartItem', 'Production.Product', 'Production.ProductSubcategory', 'Sales.Customer', 'Sales.Store', 'Sales.PersonCreditCard', 'Production.ProductCategory', 'Sales.SalesTerritory', 'Sales.SpecialOffer', 'Sales.SalesPersonQuotaHistory', 'Person.PhoneNumberType', 'Person.BusinessEntity', 'Sales.Currency', 'Sales.SalesTaxRate', 'Purchasing.ShipMethod', 'Sales.CountryRegionCurrency', 'Sales.SalesReason', 'Production.ProductModel', 'Person.BusinessEntityContact'} not found in database",
     "output_type": "error",
     "traceback": [
      "\u001b[31m---------------------------------------------------------------------------\u001b[39m",
      "\u001b[31mValueError\u001b[39m                                Traceback (most recent call last)",
      "\u001b[36mCell\u001b[39m\u001b[36m \u001b[39m\u001b[32mIn[129]\u001b[39m\u001b[32m, line 2\u001b[39m\n\u001b[32m      1\u001b[39m non_dbo_tables = [name \u001b[38;5;28;01mfor\u001b[39;00m name \u001b[38;5;129;01min\u001b[39;00m metadata.tables.keys() \u001b[38;5;28;01mif\u001b[39;00m \u001b[38;5;129;01mnot\u001b[39;00m name.startswith(\u001b[33m\"\u001b[39m\u001b[33mdbo.\u001b[39m\u001b[33m\"\u001b[39m)]\n\u001b[32m----> \u001b[39m\u001b[32m2\u001b[39m db = \u001b[43mSQLDatabase\u001b[49m\u001b[43m(\u001b[49m\u001b[43mengine\u001b[49m\u001b[43m=\u001b[49m\u001b[43mengine\u001b[49m\u001b[43m,\u001b[49m\u001b[43m \u001b[49m\u001b[43mmetadata\u001b[49m\u001b[43m=\u001b[49m\u001b[43mmetadata\u001b[49m\u001b[43m,\u001b[49m\u001b[43m \u001b[49m\u001b[43minclude_tables\u001b[49m\u001b[43m=\u001b[49m\u001b[43mnon_dbo_tables\u001b[49m\u001b[43m)\u001b[49m\n",
      "\u001b[36mFile \u001b[39m\u001b[32m~\\AppData\\Roaming\\Python\\Python311\\site-packages\\langchain_community\\utilities\\sql_database.py:83\u001b[39m, in \u001b[36mSQLDatabase.__init__\u001b[39m\u001b[34m(self, engine, schema, metadata, ignore_tables, include_tables, sample_rows_in_table_info, indexes_in_table_info, custom_table_info, view_support, max_string_length, lazy_table_reflection)\u001b[39m\n\u001b[32m     81\u001b[39m     missing_tables = \u001b[38;5;28mself\u001b[39m._include_tables - \u001b[38;5;28mself\u001b[39m._all_tables\n\u001b[32m     82\u001b[39m     \u001b[38;5;28;01mif\u001b[39;00m missing_tables:\n\u001b[32m---> \u001b[39m\u001b[32m83\u001b[39m         \u001b[38;5;28;01mraise\u001b[39;00m \u001b[38;5;167;01mValueError\u001b[39;00m(\n\u001b[32m     84\u001b[39m             \u001b[33mf\u001b[39m\u001b[33m\"\u001b[39m\u001b[33minclude_tables \u001b[39m\u001b[38;5;132;01m{\u001b[39;00mmissing_tables\u001b[38;5;132;01m}\u001b[39;00m\u001b[33m not found in database\u001b[39m\u001b[33m\"\u001b[39m\n\u001b[32m     85\u001b[39m         )\n\u001b[32m     86\u001b[39m \u001b[38;5;28mself\u001b[39m._ignore_tables = \u001b[38;5;28mset\u001b[39m(ignore_tables) \u001b[38;5;28;01mif\u001b[39;00m ignore_tables \u001b[38;5;28;01melse\u001b[39;00m \u001b[38;5;28mset\u001b[39m()\n\u001b[32m     87\u001b[39m \u001b[38;5;28;01mif\u001b[39;00m \u001b[38;5;28mself\u001b[39m._ignore_tables:\n",
      "\u001b[31mValueError\u001b[39m: include_tables {'Person.AddressType', 'Sales.SpecialOfferProduct', 'Person.ContactType', 'Sales.CreditCard', 'Sales.SalesPerson', 'Sales.SalesTerritoryHistory', 'Person.Address', 'Sales.SalesOrderHeaderSalesReason', 'Person.Person', 'Person.PersonPhone', 'Person.BusinessEntityAddress', 'Sales.CurrencyRate', 'Sales.SalesOrderDetail', 'Person.CountryRegion', 'Person.StateProvince', 'HumanResources.Employee', 'Person.EmailAddress', 'Sales.SalesOrderHeader', 'Production.UnitMeasure', 'Person.Password', 'Sales.ShoppingCartItem', 'Production.Product', 'Production.ProductSubcategory', 'Sales.Customer', 'Sales.Store', 'Sales.PersonCreditCard', 'Production.ProductCategory', 'Sales.SalesTerritory', 'Sales.SpecialOffer', 'Sales.SalesPersonQuotaHistory', 'Person.PhoneNumberType', 'Person.BusinessEntity', 'Sales.Currency', 'Sales.SalesTaxRate', 'Purchasing.ShipMethod', 'Sales.CountryRegionCurrency', 'Sales.SalesReason', 'Production.ProductModel', 'Person.BusinessEntityContact'} not found in database"
     ]
    }
   ],
   "source": [
    "non_dbo_tables = [name for name in metadata.tables.keys() if not name.startswith(\"dbo.\")]\n",
    "db = SQLDatabase(engine=engine, metadata=metadata, include_tables=non_dbo_tables)\n"
   ]
  },
  {
   "cell_type": "code",
   "execution_count": 130,
   "id": "ac172140",
   "metadata": {},
   "outputs": [
    {
     "name": "stdout",
     "output_type": "stream",
     "text": [
      "Custom DB tables: ['AWBuildVersion', 'DatabaseLog', 'ErrorLog']\n"
     ]
    }
   ],
   "source": [
    "from langchain.sql_database import SQLDatabase\n",
    "\n",
    "class MyCustomSQLDatabase(SQLDatabase):\n",
    "    def _get_all_tables(self):\n",
    "        # Instead of using the engine inspector, we use our metadata's table names.\n",
    "        # This bypasses the default behavior that only looks at dbo.\n",
    "        return set(self.metadata.tables.keys())\n",
    "\n",
    "# Then initialize:\n",
    "db = MyCustomSQLDatabase(engine=engine, metadata=metadata)\n",
    "print(\"Custom DB tables:\", db.get_table_names())\n"
   ]
  },
  {
   "cell_type": "code",
   "execution_count": 131,
   "id": "d069c50e",
   "metadata": {},
   "outputs": [
    {
     "name": "stdout",
     "output_type": "stream",
     "text": [
      "dbo tables: ['AWBuildVersion', 'DatabaseLog', 'ErrorLog']\n",
      "Person tables: ['Address', 'AddressType', 'BusinessEntity', 'BusinessEntityAddress', 'BusinessEntityContact', 'ContactType', 'CountryRegion', 'EmailAddress', 'Password', 'Person', 'PersonPhone', 'PhoneNumberType', 'StateProvince']\n"
     ]
    }
   ],
   "source": [
    "from sqlalchemy import inspect\n",
    "insp = inspect(engine)\n",
    "print(\"dbo tables:\", insp.get_table_names(schema=\"dbo\"))\n",
    "print(\"Person tables:\", insp.get_table_names(schema=\"Person\"))\n"
   ]
  },
  {
   "cell_type": "code",
   "execution_count": 132,
   "id": "d7e0e7a4",
   "metadata": {},
   "outputs": [],
   "source": [
    "def _get_all_tables(self):\n",
    "    from sqlalchemy import inspect\n",
    "    return set(inspect(self.engine).get_table_names())\n"
   ]
  },
  {
   "cell_type": "code",
   "execution_count": 135,
   "id": "0816c33c",
   "metadata": {},
   "outputs": [
    {
     "ename": "AttributeError",
     "evalue": "'AllSchemasSQLDatabase' object has no attribute 'metadata'",
     "output_type": "error",
     "traceback": [
      "\u001b[31m---------------------------------------------------------------------------\u001b[39m",
      "\u001b[31mAttributeError\u001b[39m                            Traceback (most recent call last)",
      "\u001b[36mCell\u001b[39m\u001b[36m \u001b[39m\u001b[32mIn[135]\u001b[39m\u001b[32m, line 10\u001b[39m\n\u001b[32m      8\u001b[39m \u001b[38;5;66;03m# Use your fully reflected metadata.\u001b[39;00m\n\u001b[32m      9\u001b[39m db = AllSchemasSQLDatabase(engine=engine, metadata=metadata)\n\u001b[32m---> \u001b[39m\u001b[32m10\u001b[39m \u001b[38;5;28mprint\u001b[39m(\u001b[33m\"\u001b[39m\u001b[33mCustom DB tables:\u001b[39m\u001b[33m\"\u001b[39m, \u001b[43mdb\u001b[49m\u001b[43m.\u001b[49m\u001b[43m_get_all_tables\u001b[49m\u001b[43m(\u001b[49m\u001b[43m)\u001b[49m)\n",
      "\u001b[36mCell\u001b[39m\u001b[36m \u001b[39m\u001b[32mIn[135]\u001b[39m\u001b[32m, line 6\u001b[39m, in \u001b[36mAllSchemasSQLDatabase._get_all_tables\u001b[39m\u001b[34m(self)\u001b[39m\n\u001b[32m      4\u001b[39m \u001b[38;5;28;01mdef\u001b[39;00m\u001b[38;5;250m \u001b[39m\u001b[34m_get_all_tables\u001b[39m(\u001b[38;5;28mself\u001b[39m):\n\u001b[32m      5\u001b[39m     \u001b[38;5;66;03m# Bypass the engine inspector completely by using our pre-populated metadata.\u001b[39;00m\n\u001b[32m----> \u001b[39m\u001b[32m6\u001b[39m     \u001b[38;5;28;01mreturn\u001b[39;00m \u001b[38;5;28mset\u001b[39m(\u001b[38;5;28;43mself\u001b[39;49m\u001b[43m.\u001b[49m\u001b[43mmetadata\u001b[49m.tables.keys())\n",
      "\u001b[31mAttributeError\u001b[39m: 'AllSchemasSQLDatabase' object has no attribute 'metadata'"
     ]
    }
   ],
   "source": [
    "from langchain.sql_database import SQLDatabase\n",
    "\n",
    "class AllSchemasSQLDatabase(SQLDatabase):\n",
    "    def _get_all_tables(self):\n",
    "        # Bypass the engine inspector completely by using our pre-populated metadata.\n",
    "        return set(self.metadata.tables.keys())\n",
    "\n",
    "# Use your fully reflected metadata.\n",
    "db = AllSchemasSQLDatabase(engine=engine, metadata=metadata)\n",
    "print(\"Custom DB tables:\", db._get_all_tables())\n"
   ]
  },
  {
   "cell_type": "code",
   "execution_count": 134,
   "id": "a4735d57",
   "metadata": {},
   "outputs": [
    {
     "ename": "AttributeError",
     "evalue": "'AllSchemasSQLDatabase' object has no attribute 'metadata'",
     "output_type": "error",
     "traceback": [
      "\u001b[31m---------------------------------------------------------------------------\u001b[39m",
      "\u001b[31mAttributeError\u001b[39m                            Traceback (most recent call last)",
      "\u001b[36mCell\u001b[39m\u001b[36m \u001b[39m\u001b[32mIn[134]\u001b[39m\u001b[32m, line 1\u001b[39m\n\u001b[32m----> \u001b[39m\u001b[32m1\u001b[39m \u001b[38;5;28mprint\u001b[39m(\u001b[33m\"\u001b[39m\u001b[33mCustom DB tables:\u001b[39m\u001b[33m\"\u001b[39m, \u001b[43mdb\u001b[49m\u001b[43m.\u001b[49m\u001b[43m_get_all_tables\u001b[49m\u001b[43m(\u001b[49m\u001b[43m)\u001b[49m)\n",
      "\u001b[36mCell\u001b[39m\u001b[36m \u001b[39m\u001b[32mIn[133]\u001b[39m\u001b[32m, line 6\u001b[39m, in \u001b[36mAllSchemasSQLDatabase._get_all_tables\u001b[39m\u001b[34m(self)\u001b[39m\n\u001b[32m      4\u001b[39m \u001b[38;5;28;01mdef\u001b[39;00m\u001b[38;5;250m \u001b[39m\u001b[34m_get_all_tables\u001b[39m(\u001b[38;5;28mself\u001b[39m):\n\u001b[32m      5\u001b[39m     \u001b[38;5;66;03m# Bypass the engine inspector completely by using our pre-populated metadata.\u001b[39;00m\n\u001b[32m----> \u001b[39m\u001b[32m6\u001b[39m     \u001b[38;5;28;01mreturn\u001b[39;00m \u001b[38;5;28mset\u001b[39m(\u001b[38;5;28;43mself\u001b[39;49m\u001b[43m.\u001b[49m\u001b[43mmetadata\u001b[49m.tables.keys())\n",
      "\u001b[31mAttributeError\u001b[39m: 'AllSchemasSQLDatabase' object has no attribute 'metadata'"
     ]
    }
   ],
   "source": [
    "print(\"Custom DB tables:\", db._get_all_tables())"
   ]
  },
  {
   "cell_type": "code",
   "execution_count": 136,
   "id": "2cfc713a",
   "metadata": {},
   "outputs": [
    {
     "name": "stdout",
     "output_type": "stream",
     "text": [
      "Custom DB tables: ['AWBuildVersion', 'DatabaseLog', 'ErrorLog']\n"
     ]
    }
   ],
   "source": [
    "from langchain.sql_database import SQLDatabase\n",
    "\n",
    "class AllSchemasSQLDatabase(SQLDatabase):\n",
    "    def _get_all_tables(self):\n",
    "        # Directly use the metadata's table keys.\n",
    "        return set(self.metadata.tables.keys())\n",
    "\n",
    "# Use the custom subclass.\n",
    "db = AllSchemasSQLDatabase(engine=engine, metadata=metadata)\n",
    "print(\"Custom DB tables:\", db.get_table_names())\n"
   ]
  },
  {
   "cell_type": "code",
   "execution_count": 137,
   "id": "d7b037c6",
   "metadata": {},
   "outputs": [
    {
     "name": "stderr",
     "output_type": "stream",
     "text": [
      "C:\\Users\\Sreehari\\AppData\\Local\\Temp\\ipykernel_31396\\3125609081.py:8: SAWarning: Did not recognize type 'geography' of column 'SpatialLocation'\n",
      "  metadata_person.reflect(bind=engine, schema=\"Person\")\n",
      "C:\\Users\\Sreehari\\AppData\\Local\\Temp\\ipykernel_31396\\3125609081.py:9: SAWarning: Did not recognize type 'hierarchyid' of column 'OrganizationNode'\n",
      "  metadata_sales.reflect(bind=engine, schema=\"Sales\")\n",
      "C:\\Users\\Sreehari\\AppData\\Local\\Temp\\ipykernel_31396\\3125609081.py:9: SAWarning: Did not recognize type 'geography' of column 'SpatialLocation'\n",
      "  metadata_sales.reflect(bind=engine, schema=\"Sales\")\n"
     ]
    },
    {
     "name": "stdout",
     "output_type": "stream",
     "text": [
      "Merged tables: ['dbo.AWBuildVersion', 'dbo.DatabaseLog', 'dbo.ErrorLog', 'Person.Address', 'Person.StateProvince', 'Person.CountryRegion', 'Sales.SalesTerritory', 'Person.AddressType', 'Person.BusinessEntity', 'Person.BusinessEntityAddress', 'Person.BusinessEntityContact', 'Person.ContactType', 'Person.Person', 'Person.EmailAddress', 'Person.Password', 'Person.PersonPhone', 'Person.PhoneNumberType', 'Sales.CountryRegionCurrency', 'Sales.Currency', 'Sales.CreditCard', 'Sales.CurrencyRate', 'Sales.Customer', 'Sales.Store', 'Sales.SalesPerson', 'HumanResources.Employee', 'Sales.PersonCreditCard', 'Sales.SalesOrderDetail', 'Sales.SalesOrderHeader', 'Purchasing.ShipMethod', 'Sales.SpecialOfferProduct', 'Production.Product', 'Production.ProductModel', 'Production.ProductSubcategory', 'Production.ProductCategory', 'Production.UnitMeasure', 'Sales.SpecialOffer', 'Sales.SalesOrderHeaderSalesReason', 'Sales.SalesReason', 'Sales.SalesPersonQuotaHistory', 'Sales.SalesTaxRate', 'Sales.SalesTerritoryHistory', 'Sales.ShoppingCartItem']\n"
     ]
    },
    {
     "name": "stderr",
     "output_type": "stream",
     "text": [
      "C:\\Users\\Sreehari\\AppData\\Local\\Temp\\ipykernel_31396\\3125609081.py:15: SADeprecationWarning: Table.tometadata() is renamed to Table.to_metadata() (deprecated since: 1.4)\n",
      "  table.tometadata(merged_metadata)\n",
      "C:\\Users\\Sreehari\\AppData\\Local\\Temp\\ipykernel_31396\\3125609081.py:15: SAWarning: Table 'CountryRegion' already exists within the given MetaData - not copying.\n",
      "  table.tometadata(merged_metadata)\n",
      "C:\\Users\\Sreehari\\AppData\\Local\\Temp\\ipykernel_31396\\3125609081.py:15: SAWarning: Table 'Person' already exists within the given MetaData - not copying.\n",
      "  table.tometadata(merged_metadata)\n",
      "C:\\Users\\Sreehari\\AppData\\Local\\Temp\\ipykernel_31396\\3125609081.py:15: SAWarning: Table 'BusinessEntity' already exists within the given MetaData - not copying.\n",
      "  table.tometadata(merged_metadata)\n",
      "C:\\Users\\Sreehari\\AppData\\Local\\Temp\\ipykernel_31396\\3125609081.py:15: SAWarning: Table 'SalesTerritory' already exists within the given MetaData - not copying.\n",
      "  table.tometadata(merged_metadata)\n",
      "C:\\Users\\Sreehari\\AppData\\Local\\Temp\\ipykernel_31396\\3125609081.py:15: SAWarning: Table 'Address' already exists within the given MetaData - not copying.\n",
      "  table.tometadata(merged_metadata)\n",
      "C:\\Users\\Sreehari\\AppData\\Local\\Temp\\ipykernel_31396\\3125609081.py:15: SAWarning: Table 'StateProvince' already exists within the given MetaData - not copying.\n",
      "  table.tometadata(merged_metadata)\n"
     ]
    }
   ],
   "source": [
    "from sqlalchemy import MetaData\n",
    "\n",
    "metadata_dbo = MetaData()\n",
    "metadata_person = MetaData()\n",
    "metadata_sales = MetaData()\n",
    "\n",
    "metadata_dbo.reflect(bind=engine, schema=\"dbo\")\n",
    "metadata_person.reflect(bind=engine, schema=\"Person\")\n",
    "metadata_sales.reflect(bind=engine, schema=\"Sales\")\n",
    "\n",
    "# Merge tables into a new metadata object.\n",
    "merged_metadata = MetaData()\n",
    "for m in [metadata_dbo, metadata_person, metadata_sales]:\n",
    "    for table in m.tables.values():\n",
    "        table.tometadata(merged_metadata)\n",
    "\n",
    "print(\"Merged tables:\", list(merged_metadata.tables.keys()))\n"
   ]
  },
  {
   "cell_type": "code",
   "execution_count": 138,
   "id": "f77672dd",
   "metadata": {},
   "outputs": [
    {
     "name": "stdout",
     "output_type": "stream",
     "text": [
      "Merged DB tables: ['AWBuildVersion', 'DatabaseLog', 'ErrorLog']\n"
     ]
    }
   ],
   "source": [
    "db = AllSchemasSQLDatabase(engine=engine, metadata=merged_metadata)\n",
    "print(\"Merged DB tables:\", db.get_table_names())\n"
   ]
  }
 ],
 "metadata": {
  "kernelspec": {
   "display_name": "Python 3",
   "language": "python",
   "name": "python3"
  },
  "language_info": {
   "codemirror_mode": {
    "name": "ipython",
    "version": 3
   },
   "file_extension": ".py",
   "mimetype": "text/x-python",
   "name": "python",
   "nbconvert_exporter": "python",
   "pygments_lexer": "ipython3",
   "version": "3.11.7"
  }
 },
 "nbformat": 4,
 "nbformat_minor": 5
}
