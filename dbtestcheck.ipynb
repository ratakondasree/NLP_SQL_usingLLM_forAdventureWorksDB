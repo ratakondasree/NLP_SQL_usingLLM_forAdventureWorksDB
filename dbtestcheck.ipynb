{
 "cells": [
  {
   "cell_type": "code",
   "execution_count": 2,
   "id": "f5b9f6d6",
   "metadata": {},
   "outputs": [],
   "source": [
    "import os"
   ]
  },
  {
   "cell_type": "code",
   "execution_count": 1,
   "id": "13728327",
   "metadata": {},
   "outputs": [],
   "source": [
    "from dotenv import load_dotenv"
   ]
  },
  {
   "cell_type": "code",
   "execution_count": 3,
   "id": "8ffcf45b",
   "metadata": {},
   "outputs": [
    {
     "data": {
      "text/plain": [
       "True"
      ]
     },
     "execution_count": 3,
     "metadata": {},
     "output_type": "execute_result"
    }
   ],
   "source": [
    "load_dotenv()"
   ]
  },
  {
   "cell_type": "code",
   "execution_count": 4,
   "id": "1800bb3c",
   "metadata": {},
   "outputs": [],
   "source": [
    "os.environ[\"OPENAI_API_KEY\"]=os.getenv(\"OPENAI_API_KEY\")"
   ]
  },
  {
   "cell_type": "code",
   "execution_count": 5,
   "id": "9bbaa753",
   "metadata": {},
   "outputs": [
    {
     "name": "stdout",
     "output_type": "stream",
     "text": [
      "✅ SQL Server Login Successful!\n"
     ]
    }
   ],
   "source": [
    "import pyodbc\n",
    "\n",
    "try:\n",
    "    conn = pyodbc.connect(\"DRIVER={ODBC Driver 17 for SQL Server};\"\n",
    "                          \"SERVER=LAPTOP-RES6G37K;\"\n",
    "                          \"DATABASE=adventureworks2019;\"\n",
    "                          \"Trusted_connection=Yes;\")\n",
    "    print(\"✅ SQL Server Login Successful!\")\n",
    "    conn.close()\n",
    "except Exception as e:\n",
    "    print(\"❌ SQL Server Login Failed:\", e)"
   ]
  },
  {
   "cell_type": "code",
   "execution_count": 6,
   "id": "c80160af",
   "metadata": {},
   "outputs": [],
   "source": [
    "from sqlalchemy import create_engine"
   ]
  },
  {
   "cell_type": "code",
   "execution_count": 23,
   "id": "f3378cdc",
   "metadata": {},
   "outputs": [],
   "source": [
    "from sqlalchemy.engine import URL\n",
    "server = \"LAPTOP-RES6G37K\"\n",
    "database = \"adventureworks2019\"\n",
    "\n",
    "\n",
    "connection_url = URL.create(\n",
    "    \"mssql+pyodbc\",\n",
    "    host=\"tcp:\" + server,\n",
    "    port=1433,\n",
    "    database=database,\n",
    "    \n",
    "    # driver is typically required in the query\n",
    "    query={\n",
    "        \"driver\": \"ODBC Driver 17 for SQL Server\",\n",
    "        \"Trusted_Connection\": \"yes\"\n",
    "    },\n",
    ")\n",
    "\n",
    "engine = create_engine(connection_url)\n"
   ]
  },
  {
   "cell_type": "code",
   "execution_count": 24,
   "id": "284e3de5",
   "metadata": {},
   "outputs": [
    {
     "name": "stdout",
     "output_type": "stream",
     "text": [
      "✅ SQLAlchemy connected successfully!\n"
     ]
    }
   ],
   "source": [
    "try:\n",
    "    with engine.connect() as conn:\n",
    "        print(\"✅ SQLAlchemy connected successfully!\")\n",
    "except Exception as e:\n",
    "    print(\"❌ SQLAlchemy connection failed:\", e)"
   ]
  },
  {
   "cell_type": "code",
   "execution_count": 25,
   "id": "71010309",
   "metadata": {},
   "outputs": [
    {
     "name": "stderr",
     "output_type": "stream",
     "text": [
      "C:\\Users\\Sreehari\\AppData\\Local\\Temp\\ipykernel_31396\\3297954912.py:5: SAWarning: Did not recognize type 'hierarchyid' of column 'OrganizationNode'\n",
      "  metadata.reflect(bind=engine, schema=\"Sales\")\n",
      "C:\\Users\\Sreehari\\AppData\\Local\\Temp\\ipykernel_31396\\3297954912.py:5: SAWarning: Did not recognize type 'geography' of column 'SpatialLocation'\n",
      "  metadata.reflect(bind=engine, schema=\"Sales\")\n"
     ]
    },
    {
     "name": "stdout",
     "output_type": "stream",
     "text": [
      "dict_keys(['Sales.CountryRegionCurrency', 'Person.CountryRegion', 'Sales.Currency', 'Sales.CreditCard', 'Sales.CurrencyRate', 'Sales.Customer', 'Person.Person', 'Person.BusinessEntity', 'Sales.SalesTerritory', 'Sales.Store', 'Sales.SalesPerson', 'HumanResources.Employee', 'Sales.PersonCreditCard', 'Sales.SalesOrderDetail', 'Sales.SalesOrderHeader', 'Person.Address', 'Person.StateProvince', 'Purchasing.ShipMethod', 'Sales.SpecialOfferProduct', 'Production.Product', 'Production.ProductModel', 'Production.ProductSubcategory', 'Production.ProductCategory', 'Production.UnitMeasure', 'Sales.SpecialOffer', 'Sales.SalesOrderHeaderSalesReason', 'Sales.SalesReason', 'Sales.SalesPersonQuotaHistory', 'Sales.SalesTaxRate', 'Sales.SalesTerritoryHistory', 'Sales.ShoppingCartItem'])\n"
     ]
    }
   ],
   "source": [
    "from sqlalchemy import create_engine, MetaData\n",
    "metadata = MetaData()\n",
    "\n",
    "# Reflect the specific schema you care about\n",
    "metadata.reflect(bind=engine, schema=\"Sales\")\n",
    "\n",
    "# Now you can inspect all tables in MySchema\n",
    "print(metadata.tables.keys())"
   ]
  },
  {
   "cell_type": "code",
   "execution_count": 16,
   "id": "610bf038",
   "metadata": {},
   "outputs": [],
   "source": [
    "from langchain_openai import ChatOpenAI"
   ]
  },
  {
   "cell_type": "code",
   "execution_count": 17,
   "id": "fad0851c",
   "metadata": {},
   "outputs": [],
   "source": [
    "import os\n",
    "from langchain_openai import OpenAI\n",
    "from langchain_experimental.sql import SQLDatabaseChain\n",
    "from langchain.utilities import SQLDatabase\n",
    "from sqlalchemy import create_engine"
   ]
  },
  {
   "cell_type": "code",
   "execution_count": 18,
   "id": "1bfdf90d",
   "metadata": {},
   "outputs": [],
   "source": [
    "# Create SQLDatabase instance\n",
    "db = SQLDatabase(engine)"
   ]
  },
  {
   "cell_type": "code",
   "execution_count": null,
   "id": "aaf54c5e",
   "metadata": {},
   "outputs": [
    {
     "name": "stdout",
     "output_type": "stream",
     "text": [
      "{'ErrorLog', 'DatabaseLog', 'AWBuildVersion'}\n"
     ]
    }
   ],
   "source": [
    "print(db)"
   ]
  }
 ],
 "metadata": {
  "kernelspec": {
   "display_name": "Python 3",
   "language": "python",
   "name": "python3"
  },
  "language_info": {
   "codemirror_mode": {
    "name": "ipython",
    "version": 3
   },
   "file_extension": ".py",
   "mimetype": "text/x-python",
   "name": "python",
   "nbconvert_exporter": "python",
   "pygments_lexer": "ipython3",
   "version": "3.11.7"
  }
 },
 "nbformat": 4,
 "nbformat_minor": 5
}
