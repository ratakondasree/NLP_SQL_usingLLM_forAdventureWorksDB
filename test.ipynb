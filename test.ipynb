{
 "cells": [
  {
   "cell_type": "code",
   "execution_count": 38,
   "metadata": {},
   "outputs": [],
   "source": [
    "from dotenv import load_dotenv"
   ]
  },
  {
   "cell_type": "code",
   "execution_count": 5,
   "metadata": {},
   "outputs": [],
   "source": [
    "import os"
   ]
  },
  {
   "cell_type": "code",
   "execution_count": 3,
   "metadata": {},
   "outputs": [
    {
     "data": {
      "text/plain": [
       "True"
      ]
     },
     "execution_count": 3,
     "metadata": {},
     "output_type": "execute_result"
    }
   ],
   "source": [
    "load_dotenv()"
   ]
  },
  {
   "cell_type": "code",
   "execution_count": 6,
   "metadata": {},
   "outputs": [],
   "source": [
    "os.environ[\"OPENAI_API_KEY\"]=os.getenv(\"OPENAI_API_KEY\")"
   ]
  },
  {
   "cell_type": "code",
   "execution_count": 41,
   "metadata": {},
   "outputs": [
    {
     "name": "stdout",
     "output_type": "stream",
     "text": [
      "❌ SQL Server Login Failed: ('28000', '[28000] [Microsoft][ODBC Driver 17 for SQL Server][SQL Server]Login failed for user \\'YourLogin\\'. (18456) (SQLDriverConnect); [28000] [Microsoft][ODBC Driver 17 for SQL Server][SQL Server]Cannot open database \"adventureworks2019\" requested by the login. The login failed. (4060); [28000] [Microsoft][ODBC Driver 17 for SQL Server][SQL Server]Login failed for user \\'YourLogin\\'. (18456); [28000] [Microsoft][ODBC Driver 17 for SQL Server][SQL Server]Cannot open database \"adventureworks2019\" requested by the login. The login failed. (4060)')\n"
     ]
    }
   ],
   "source": [
    "import pyodbc\n",
    "\n",
    "try:\n",
    "    conn = pyodbc.connect(\"DRIVER={ODBC Driver 17 for SQL Server};\"\n",
    "                          \"SERVER=LAPTOP-RES6G37K;\"\n",
    "                          \"DATABASE=adventureworks2019;\"\n",
    "                          \"UID=YourLogin;\"\n",
    "                          \"PWD=Rsri@Nov1983;\")\n",
    "    print(\"✅ SQL Server Login Successful!\")\n",
    "    conn.close()\n",
    "except Exception as e:\n",
    "    print(\"❌ SQL Server Login Failed:\", e)"
   ]
  },
  {
   "cell_type": "code",
   "execution_count": 8,
   "metadata": {},
   "outputs": [],
   "source": [
    "from sqlalchemy import create_engine"
   ]
  },
  {
   "cell_type": "code",
   "execution_count": 10,
   "metadata": {},
   "outputs": [],
   "source": [
    "from sqlalchemy.engine import URL\n",
    "server = \"LAPTOP-RES6G37K\"\n",
    "database = \"atliq_tshirts\"\n",
    "username = \"MyLogin\"\n",
    "password = \"Rsri@Nov1983\"\n",
    "\n",
    "connection_url = URL.create(\n",
    "    \"mssql+pyodbc\",\n",
    "    username=username,\n",
    "    password=password,\n",
    "    host=\"tcp:\" + server,\n",
    "    port=1433,\n",
    "    database=database,\n",
    "    query={\"driver\": \"ODBC Driver 17 for SQL Server\"}\n",
    ")\n",
    "\n",
    "engine = create_engine(connection_url)\n"
   ]
  },
  {
   "cell_type": "code",
   "execution_count": 11,
   "metadata": {},
   "outputs": [
    {
     "name": "stdout",
     "output_type": "stream",
     "text": [
      "✅ SQLAlchemy connected successfully!\n"
     ]
    }
   ],
   "source": [
    "try:\n",
    "    with engine.connect() as conn:\n",
    "        print(\"✅ SQLAlchemy connected successfully!\")\n",
    "except Exception as e:\n",
    "    print(\"❌ SQLAlchemy connection failed:\", e)"
   ]
  },
  {
   "cell_type": "code",
   "execution_count": 12,
   "metadata": {},
   "outputs": [],
   "source": [
    "from langchain_openai import ChatOpenAI"
   ]
  },
  {
   "cell_type": "code",
   "execution_count": 13,
   "metadata": {},
   "outputs": [],
   "source": [
    "import os\n",
    "from langchain_openai import OpenAI\n",
    "from langchain_experimental.sql import SQLDatabaseChain\n",
    "from langchain.utilities import SQLDatabase\n",
    "from sqlalchemy import create_engine"
   ]
  },
  {
   "cell_type": "code",
   "execution_count": 14,
   "metadata": {},
   "outputs": [],
   "source": [
    "# Create SQLDatabase instance\n",
    "db = SQLDatabase(engine)"
   ]
  },
  {
   "cell_type": "code",
   "execution_count": 24,
   "metadata": {},
   "outputs": [
    {
     "name": "stdout",
     "output_type": "stream",
     "text": [
      "['discounts', 't_shirts']\n"
     ]
    }
   ],
   "source": [
    "print(db.get_usable_table_names())"
   ]
  },
  {
   "cell_type": "code",
   "execution_count": 25,
   "metadata": {},
   "outputs": [
    {
     "name": "stdout",
     "output_type": "stream",
     "text": [
      "\n",
      "\n",
      "\u001b[1m> Entering new SQLDatabaseChain chain...\u001b[0m\n",
      "how many total blue nike t-shirts are available?\n",
      "SQLQuery:\u001b[32;1m\u001b[1;3mSELECT SUM([stock_quantity]) as Total_Blue_Nike\n",
      "FROM [t_shirts]\n",
      "WHERE [brand] = 'Nike' AND [color] = 'Blue'\u001b[0m\n",
      "SQLResult: \u001b[33;1m\u001b[1;3m[(None,)]\u001b[0m\n",
      "Answer:\u001b[32;1m\u001b[1;3mThere are no blue Nike t-shirts available.\u001b[0m\n",
      "\u001b[1m> Finished chain.\u001b[0m\n",
      "Query Result: {'query': 'how many total blue nike t-shirts are available?', 'result': 'There are no blue Nike t-shirts available.'}\n"
     ]
    }
   ],
   "source": [
    "llm = ChatOpenAI(model_name=\"gpt-4\", temperature=0)\n",
    "\n",
    "# ✅ Create SQLDatabaseChain\n",
    "db_chain = SQLDatabaseChain.from_llm(llm, db, verbose=True)\n",
    "\n",
    "# Example: Convert Natural Language to SQL\n",
    "nl_query = \"how many total blue nike t-shirts are available?\"\n",
    "\n",
    "# ✅ Generate SQL Query & Execute\n",
    "result = db_chain.invoke(nl_query)\n",
    "\n",
    "print(\"Query Result:\", result)"
   ]
  },
  {
   "cell_type": "code",
   "execution_count": 27,
   "metadata": {},
   "outputs": [
    {
     "name": "stdout",
     "output_type": "stream",
     "text": [
      "{'query': 'how many total blue nike t-shirts are available?', 'result': 'There are no blue Nike t-shirts available.'}\n"
     ]
    }
   ],
   "source": [
    "print(result)"
   ]
  },
  {
   "cell_type": "code",
   "execution_count": 29,
   "metadata": {},
   "outputs": [
    {
     "data": {
      "text/plain": [
       "SQLDatabaseChain(verbose=True, llm_chain=LLMChain(verbose=False, prompt=PromptTemplate(input_variables=['input', 'table_info', 'top_k'], input_types={}, partial_variables={}, template='You are an MS SQL expert. Given an input question, first create a syntactically correct MS SQL query to run, then look at the results of the query and return the answer to the input question.\\nUnless the user specifies in the question a specific number of examples to obtain, query for at most {top_k} results using the TOP clause as per MS SQL. You can order the results to return the most informative data in the database.\\nNever query for all columns from a table. You must query only the columns that are needed to answer the question. Wrap each column name in square brackets ([]) to denote them as delimited identifiers.\\nPay attention to use only the column names you can see in the tables below. Be careful to not query for columns that do not exist. Also, pay attention to which column is in which table.\\nPay attention to use CAST(GETDATE() as date) function to get the current date, if the question involves \"today\".\\n\\nUse the following format:\\n\\nQuestion: Question here\\nSQLQuery: SQL Query to run\\nSQLResult: Result of the SQLQuery\\nAnswer: Final answer here\\n\\nOnly use the following tables:\\n{table_info}\\n\\nQuestion: {input}'), llm=ChatOpenAI(client=<openai.resources.chat.completions.completions.Completions object at 0x0000015B2E320990>, async_client=<openai.resources.chat.completions.completions.AsyncCompletions object at 0x0000015B2D60DD10>, root_client=<openai.OpenAI object at 0x0000015B2E297110>, root_async_client=<openai.AsyncOpenAI object at 0x0000015B2E306E50>, model_name='gpt-4', temperature=0.0, model_kwargs={}, openai_api_key=SecretStr('**********')), output_parser=StrOutputParser(), llm_kwargs={}), database=<langchain_community.utilities.sql_database.SQLDatabase object at 0x0000015B2E19AC50>)"
      ]
     },
     "execution_count": 29,
     "metadata": {},
     "output_type": "execute_result"
    }
   ],
   "source": [
    "db_chain"
   ]
  },
  {
   "cell_type": "code",
   "execution_count": 30,
   "metadata": {},
   "outputs": [
    {
     "name": "stdout",
     "output_type": "stream",
     "text": [
      "\n",
      "\n",
      "\u001b[1m> Entering new SQLDatabaseChain chain...\u001b[0m\n",
      "how many total blue nike t-shirts are available?\n",
      "SQLQuery:\u001b[32;1m\u001b[1;3mSELECT SUM([stock_quantity]) as Total_Blue_Nike\n",
      "FROM [t_shirts]\n",
      "WHERE [brand] = 'Nike' AND [color] = 'Blue'\u001b[0m\n",
      "SQLResult: \u001b[33;1m\u001b[1;3m[(None,)]\u001b[0m\n",
      "Answer:\u001b[32;1m\u001b[1;3mThere are no blue Nike t-shirts available.\u001b[0m\n",
      "\u001b[1m> Finished chain.\u001b[0m\n"
     ]
    },
    {
     "data": {
      "text/plain": [
       "{'query': 'how many total blue nike t-shirts are available?',\n",
       " 'result': 'There are no blue Nike t-shirts available.'}"
      ]
     },
     "execution_count": 30,
     "metadata": {},
     "output_type": "execute_result"
    }
   ],
   "source": [
    "db_chain.invoke(nl_query)"
   ]
  },
  {
   "cell_type": "code",
   "execution_count": 32,
   "metadata": {},
   "outputs": [
    {
     "name": "stdout",
     "output_type": "stream",
     "text": [
      "\n",
      "\n",
      "\u001b[1m> Entering new SQLDatabaseChain chain...\u001b[0m\n",
      "how many total price for adidas ?\n",
      "SQLQuery:\u001b[32;1m\u001b[1;3mSELECT SUM([price]) as TotalPrice\n",
      "FROM [t_shirts]\n",
      "WHERE [brand] = 'Adidas'\u001b[0m\n",
      "SQLResult: \u001b[33;1m\u001b[1;3m[(2160,)]\u001b[0m\n",
      "Answer:\u001b[32;1m\u001b[1;3mThe total price for Adidas is 2160.\u001b[0m\n",
      "\u001b[1m> Finished chain.\u001b[0m\n"
     ]
    }
   ],
   "source": [
    "# Example: Convert Natural Language to SQL\n",
    "nl_query = \"how many total price for adidas ?\"\n",
    "result=db_chain.invoke(nl_query)"
   ]
  },
  {
   "cell_type": "code",
   "execution_count": 40,
   "metadata": {},
   "outputs": [],
   "source": [
    "def query_answer(username,password,query):\n",
    "    db = SQLDatabase(create_db_connection(username,password))\n",
    "    llm = ChatOpenAI(model_name=\"gpt-4\", temperature=0)\n",
    "    # ✅ Create SQLDatabaseChain\n",
    "    db_chain = SQLDatabaseChain.from_llm(llm, db, verbose=True)\n",
    "    # Example: Convert Natural Language to SQL\n",
    "    # ✅ Generate SQL Query & Execute\n",
    "    result = db_chain.invoke(query)\n",
    "    return result "
   ]
  },
  {
   "cell_type": "code",
   "execution_count": 39,
   "metadata": {},
   "outputs": [],
   "source": [
    "server = \"LAPTOP-RES6G37K\"\n",
    "database = \"adventureworks2019\"\n",
    "\n",
    "\n",
    "def create_db_connection(username,password):\n",
    "    connection_url = URL.create(\n",
    "        \"mssql+pyodbc\",\n",
    "        username=username,\n",
    "        password=password,\n",
    "        host=\"tcp:\" + server,\n",
    "        port=1433,\n",
    "        database=database,\n",
    "        query={\"driver\": \"ODBC Driver 17 for SQL Server\"}\n",
    "    )\n",
    "\n",
    "    engine = create_engine(connection_url)\n",
    "    return engine "
   ]
  },
  {
   "cell_type": "code",
   "execution_count": 35,
   "metadata": {},
   "outputs": [
    {
     "name": "stdout",
     "output_type": "stream",
     "text": [
      "\n",
      "\n",
      "\u001b[1m> Entering new SQLDatabaseChain chain...\u001b[0m\n",
      "how many total price for adidas ?\n",
      "SQLQuery:\u001b[32;1m\u001b[1;3mSELECT SUM([price]) as TotalPrice\n",
      "FROM [t_shirts]\n",
      "WHERE [brand] = 'Adidas'\u001b[0m\n",
      "SQLResult: \u001b[33;1m\u001b[1;3m[(2160,)]\u001b[0m\n",
      "Answer:\u001b[32;1m\u001b[1;3mThe total price for Adidas is 2160.\u001b[0m\n",
      "\u001b[1m> Finished chain.\u001b[0m\n"
     ]
    }
   ],
   "source": [
    "result=query_answer(\"MyLogin\",\"Rsri@Nov1983\",\"how many total price for adidas ?\")"
   ]
  },
  {
   "cell_type": "code",
   "execution_count": 36,
   "metadata": {},
   "outputs": [
    {
     "data": {
      "text/plain": [
       "{'query': 'how many total price for adidas ?',\n",
       " 'result': 'The total price for Adidas is 2160.'}"
      ]
     },
     "execution_count": 36,
     "metadata": {},
     "output_type": "execute_result"
    }
   ],
   "source": [
    "result"
   ]
  }
 ],
 "metadata": {
  "kernelspec": {
   "display_name": "Python 3",
   "language": "python",
   "name": "python3"
  },
  "language_info": {
   "codemirror_mode": {
    "name": "ipython",
    "version": 3
   },
   "file_extension": ".py",
   "mimetype": "text/x-python",
   "name": "python",
   "nbconvert_exporter": "python",
   "pygments_lexer": "ipython3",
   "version": "3.11.7"
  }
 },
 "nbformat": 4,
 "nbformat_minor": 2
}
